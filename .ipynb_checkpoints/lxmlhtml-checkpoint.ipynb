{
 "cells": [
  {
   "cell_type": "code",
   "execution_count": 2,
   "metadata": {},
   "outputs": [],
   "source": [
    "from lxml.html import fromstring, tostring\n",
    "from lxml.html import parse, submit_form\n",
    "import requests"
   ]
  },
  {
   "cell_type": "code",
   "execution_count": 7,
   "metadata": {},
   "outputs": [],
   "source": [
    "r = requests.get('https://estudiantes.portaloas.udistrital.edu.co/appserv')"
   ]
  },
  {
   "cell_type": "code",
   "execution_count": 8,
   "metadata": {},
   "outputs": [
    {
     "name": "stdout",
     "output_type": "stream",
     "text": [
      "b'<form id=\"formulario\" method=\"post\" action=\"clase/verifica.class.php\" title=\"Formulario de Ingreso al Sistema\" name=\"formulario\">\\n\\n\\t\\t\\t\\t\\t\\t\\t\\t\\t<div class=\"input-row\">\\n\\t\\t\\t\\t\\t\\t\\t\\t\\t\\t<input title=\"Nickname\" id=\"nickname\" name=\"usuario\" tabindex=\"1\" class=\"login ui-widget ui-widget-content ui-corner-all\" size=\"20\" placeholder=\"Usuario\" maxlength=\"15\" required=\"\" type=\"text\">\\n\\t\\t\\t\\t\\t\\t\\t\\t\\t</div>\\n\\n\\t\\t\\t\\t\\t\\t\\t\\t\\t<div class=\"input-row password-row\">\\n\\t\\t\\t\\t\\t\\t\\t\\t\\t\\t<input title=\"Contrase&#241;a\" id=\"contrasena\" name=\"clave\" tabindex=\"2\" class=\"login ui-widget ui-widget-content ui-corner-all\" value=\"\" size=\"20\" placeholder=\"Clave\" maxlength=\"50\" required=\"\" type=\"password\">\\n\\t\\t\\t\\t\\t\\t\\t\\t\\t</div>\\n\\n\\t\\t\\t\\t\\t\\t\\t\\t\\t<div style=\"width: 304px; margin: 0px auto;\">\\n\\t\\t\\t\\t\\t\\t\\t\\t\\t\\t<div id=\"g-recaptcha\"></div>\\n\\t\\t\\t\\t\\t\\t\\t\\t\\t</div>\\n\\n\\t\\t\\t\\t\\t\\t\\t\\t\\t<div class=\"button-row\">\\n\\t\\t\\t\\t\\t\\t\\t\\t\\t\\t<div class=\"campoBoton\">\\n\\t\\t\\t\\t\\t\\t\\t\\t\\t\\t\\t<button id=\"ingresar\" tabindex=\"3\" disabled type=\"submit\" title=\"Haga click para Ingresar\">Cargando...</button>\\n\\t\\t\\t\\t\\t\\t\\t\\t\\t\\t</div>\\n\\t\\t\\t\\t\\t\\t\\t\\t\\t</div>\\n\\t\\t\\t\\t\\t\\t\\t\\t</form>\\n\\t\\t\\t\\t\\t\\t\\t\\t'\n"
     ]
    }
   ],
   "source": [
    "form_page = fromstring(r.text)\n",
    "formulario = form_page.forms[0]\n",
    "print (tostring(formulario))"
   ]
  },
  {
   "cell_type": "code",
   "execution_count": 30,
   "metadata": {},
   "outputs": [],
   "source": []
  },
  {
   "cell_type": "code",
   "execution_count": 31,
   "metadata": {},
   "outputs": [],
   "source": []
  },
  {
   "cell_type": "code",
   "execution_count": 32,
   "metadata": {},
   "outputs": [],
   "source": []
  },
  {
   "cell_type": "code",
   "execution_count": 39,
   "metadata": {},
   "outputs": [
    {
     "name": "stdout",
     "output_type": "stream",
     "text": [
      "<Element html at 0x15107ca1270>\n"
     ]
    }
   ],
   "source": []
  },
  {
   "cell_type": "code",
   "execution_count": null,
   "metadata": {},
   "outputs": [],
   "source": []
  }
 ],
 "metadata": {
  "kernelspec": {
   "display_name": "Python 3",
   "language": "python",
   "name": "python3"
  },
  "language_info": {
   "codemirror_mode": {
    "name": "ipython",
    "version": 3
   },
   "file_extension": ".py",
   "mimetype": "text/x-python",
   "name": "python",
   "nbconvert_exporter": "python",
   "pygments_lexer": "ipython3",
   "version": "3.8.10"
  }
 },
 "nbformat": 4,
 "nbformat_minor": 4
}
