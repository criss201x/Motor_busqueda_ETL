{
 "cells": [
  {
   "cell_type": "code",
   "execution_count": 2,
   "id": "51a55325-dcca-46b1-96b3-3c55ea541292",
   "metadata": {},
   "outputs": [
    {
     "name": "stdout",
     "output_type": "stream",
     "text": [
      "Collecting tabula-py\n",
      "  Downloading tabula_py-2.2.0-py3-none-any.whl (11.7 MB)\n",
      "\u001b[K     |████████████████████████████████| 11.7 MB 754 kB/s eta 0:00:01\n",
      "\u001b[?25hCollecting distro\n",
      "  Downloading distro-1.5.0-py2.py3-none-any.whl (18 kB)\n",
      "Requirement already satisfied: pandas>=0.25.3 in /home/cristian/anaconda3/lib/python3.8/site-packages (from tabula-py) (1.2.4)\n",
      "Requirement already satisfied: numpy in /home/cristian/anaconda3/lib/python3.8/site-packages (from tabula-py) (1.20.3)\n",
      "Requirement already satisfied: python-dateutil>=2.7.3 in /home/cristian/anaconda3/lib/python3.8/site-packages (from pandas>=0.25.3->tabula-py) (2.8.1)\n",
      "Requirement already satisfied: pytz>=2017.3 in /home/cristian/anaconda3/lib/python3.8/site-packages (from pandas>=0.25.3->tabula-py) (2021.1)\n",
      "Requirement already satisfied: six>=1.5 in /home/cristian/anaconda3/lib/python3.8/site-packages (from python-dateutil>=2.7.3->pandas>=0.25.3->tabula-py) (1.16.0)\n",
      "Installing collected packages: distro, tabula-py\n",
      "Successfully installed distro-1.5.0 tabula-py-2.2.0\n",
      "Note: you may need to restart the kernel to use updated packages.\n"
     ]
    }
   ],
   "source": [
    "pip install tabula-py"
   ]
  },
  {
   "cell_type": "code",
   "execution_count": 3,
   "id": "4f957bba-ffca-4aeb-a3c6-5c1387e119e2",
   "metadata": {},
   "outputs": [],
   "source": [
    "#!pip install tabula\n",
    "import tabula as tb\n",
    "from tabula import read_pdf\n",
    "import warnings\n",
    "warnings.filterwarnings('ignore')"
   ]
  },
  {
   "cell_type": "code",
   "execution_count": 32,
   "id": "b0350011-cf02-44ca-8407-ef0228ee3219",
   "metadata": {},
   "outputs": [
    {
     "data": {
      "text/html": [
       "<div>\n",
       "<style scoped>\n",
       "    .dataframe tbody tr th:only-of-type {\n",
       "        vertical-align: middle;\n",
       "    }\n",
       "\n",
       "    .dataframe tbody tr th {\n",
       "        vertical-align: top;\n",
       "    }\n",
       "\n",
       "    .dataframe thead th {\n",
       "        text-align: right;\n",
       "    }\n",
       "</style>\n",
       "<table border=\"1\" class=\"dataframe\">\n",
       "  <thead>\n",
       "    <tr style=\"text-align: right;\">\n",
       "      <th></th>\n",
       "      <th>Cod.</th>\n",
       "      <th>Espacio Academico</th>\n",
       "      <th>Dia</th>\n",
       "      <th>Hora</th>\n",
       "      <th>Sede</th>\n",
       "      <th>Edificio</th>\n",
       "      <th>Salon</th>\n",
       "      <th>Docente</th>\n",
       "    </tr>\n",
       "  </thead>\n",
       "  <tbody>\n",
       "    <tr>\n",
       "      <th>0</th>\n",
       "      <td>8212.0</td>\n",
       "      <td>DANZA TRADICIONAL COLOMBIANA GENERALIDADES I</td>\n",
       "      <td>MARTES</td>\n",
       "      <td>8-9</td>\n",
       "      <td>CENTRO</td>\n",
       "      <td>CENTRO CULTURAL NUEVA</td>\n",
       "      <td>SALON MULTIPLE</td>\n",
       "      <td>MARTINEZ GILBERTO</td>\n",
       "    </tr>\n",
       "    <tr>\n",
       "      <th>1</th>\n",
       "      <td>NaN</td>\n",
       "      <td>NaN</td>\n",
       "      <td>NaN</td>\n",
       "      <td>NaN</td>\n",
       "      <td>CULTURAL</td>\n",
       "      <td>SANTAFE</td>\n",
       "      <td>NaN</td>\n",
       "      <td>NaN</td>\n",
       "    </tr>\n",
       "    <tr>\n",
       "      <th>2</th>\n",
       "      <td>NaN</td>\n",
       "      <td>NaN</td>\n",
       "      <td>NaN</td>\n",
       "      <td>NaN</td>\n",
       "      <td>NUEVA</td>\n",
       "      <td>NaN</td>\n",
       "      <td>NaN</td>\n",
       "      <td>NaN</td>\n",
       "    </tr>\n",
       "    <tr>\n",
       "      <th>3</th>\n",
       "      <td>NaN</td>\n",
       "      <td>NaN</td>\n",
       "      <td>NaN</td>\n",
       "      <td>NaN</td>\n",
       "      <td>SANTAFE</td>\n",
       "      <td>NaN</td>\n",
       "      <td>NaN</td>\n",
       "      <td>NaN</td>\n",
       "    </tr>\n",
       "    <tr>\n",
       "      <th>4</th>\n",
       "      <td>8212.0</td>\n",
       "      <td>DANZA TRADICIONAL COLOMBIANA GENERALIDADES I</td>\n",
       "      <td>MARTES</td>\n",
       "      <td>8-9</td>\n",
       "      <td>CENTRO</td>\n",
       "      <td>CENTRO CULTURAL NUEVA</td>\n",
       "      <td>SALON MULTIPLE</td>\n",
       "      <td>GUZMAN EDWIN ARMANDO</td>\n",
       "    </tr>\n",
       "  </tbody>\n",
       "</table>\n",
       "</div>"
      ],
      "text/plain": [
       "     Cod.                             Espacio Academico     Dia Hora  \\\n",
       "0  8212.0  DANZA TRADICIONAL COLOMBIANA GENERALIDADES I  MARTES  8-9   \n",
       "1     NaN                                           NaN     NaN  NaN   \n",
       "2     NaN                                           NaN     NaN  NaN   \n",
       "3     NaN                                           NaN     NaN  NaN   \n",
       "4  8212.0  DANZA TRADICIONAL COLOMBIANA GENERALIDADES I  MARTES  8-9   \n",
       "\n",
       "       Sede               Edificio           Salon               Docente  \n",
       "0    CENTRO  CENTRO CULTURAL NUEVA  SALON MULTIPLE     MARTINEZ GILBERTO  \n",
       "1  CULTURAL                SANTAFE             NaN                   NaN  \n",
       "2     NUEVA                    NaN             NaN                   NaN  \n",
       "3   SANTAFE                    NaN             NaN                   NaN  \n",
       "4    CENTRO  CENTRO CULTURAL NUEVA  SALON MULTIPLE  GUZMAN EDWIN ARMANDO  "
      ]
     },
     "execution_count": 32,
     "metadata": {},
     "output_type": "execute_result"
    }
   ],
   "source": [
    "infile  = \"horarios_20211_Facultad_Artes.pdf\" \n",
    "df_data = tb.read_pdf(infile, \n",
    "                          pages = 10,\n",
    "                          multiple_tables = True, \n",
    "                          #pandas_options={'skiprows':1}\n",
    "                          #pandas_options={'header': [0,1]}\n",
    "                         )[0]\n",
    "df_data.head()"
   ]
  },
  {
   "cell_type": "code",
   "execution_count": null,
   "id": "b852a206-fa56-4fd4-87a8-71f1153769d2",
   "metadata": {},
   "outputs": [],
   "source": []
  }
 ],
 "metadata": {
  "kernelspec": {
   "display_name": "Python 3",
   "language": "python",
   "name": "python3"
  },
  "language_info": {
   "codemirror_mode": {
    "name": "ipython",
    "version": 3
   },
   "file_extension": ".py",
   "mimetype": "text/x-python",
   "name": "python",
   "nbconvert_exporter": "python",
   "pygments_lexer": "ipython3",
   "version": "3.8.10"
  }
 },
 "nbformat": 4,
 "nbformat_minor": 5
}
