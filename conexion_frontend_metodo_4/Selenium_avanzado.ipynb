{
 "cells": [
  {
   "cell_type": "code",
   "execution_count": 1,
   "metadata": {},
   "outputs": [],
   "source": [
    "import time\n",
    "import os\n",
    "from selenium.webdriver.common.keys import Keys\n",
    "from selenium import webdriver \n",
    "from selenium.webdriver.chrome.options import Options\n",
    "import random"
   ]
  },
  {
   "cell_type": "code",
   "execution_count": 2,
   "metadata": {},
   "outputs": [
    {
     "name": "stdout",
     "output_type": "stream",
     "text": [
      "descargando...\n"
     ]
    }
   ],
   "source": [
    "enlace = \"https://www.dropbox.com/sh/qe9h0jdh7fgz006/AADWQ5v8_4YRIF61uAbu75oua?dl=0&preview=horarios_20211_Segunda_Lengua.pdf\"\n",
    "chrome_options=Options()\n",
    "conf_cliente = {\"plugins.plugins_list\": [{\"enabled\": False, \"name\": \"Chrome PDF Viewer\"}], \"download.default_directory\": os.getcwd()}\n",
    "chrome_options.add_experimental_option(\"prefs\", conf_cliente)\n",
    "chrome_options.headless = True\n",
    "chrome_options.add_argument('user-agent=\"Mozilla/5.0 (Windows NT 10.0; WOW64) AppleWebKit/537.36 (KHTML, like Gecko) Chrome/70.0.3538.67 Safari/537.36\"')\n",
    "navegador = webdriver.Chrome(r'./chromedriver', options=chrome_options)\n",
    "navegador.get(enlace)\n",
    "time.sleep(3)\n",
    "item = navegador.find_element_by_class_name('download-button')\n",
    "subitem = item.find_element_by_class_name('mc-button')\n",
    "subitem.click()\n",
    "boton_descarga = navegador.find_elements_by_class_name('mc-popover-content-item')\n",
    "for elemento in boton_descarga:\n",
    "    if elemento.text  == \"Descarga directa\":        \n",
    "        print(\"descargando...\")        \n",
    "        descarga = elemento                 \n",
    "descarga.click()    "
   ]
  },
  {
   "cell_type": "code",
   "execution_count": null,
   "metadata": {},
   "outputs": [],
   "source": []
  }
 ],
 "metadata": {
  "kernelspec": {
   "display_name": "Python 3",
   "language": "python",
   "name": "python3"
  },
  "language_info": {
   "codemirror_mode": {
    "name": "ipython",
    "version": 3
   },
   "file_extension": ".py",
   "mimetype": "text/x-python",
   "name": "python",
   "nbconvert_exporter": "python",
   "pygments_lexer": "ipython3",
   "version": "3.8.10"
  }
 },
 "nbformat": 4,
 "nbformat_minor": 4
}
