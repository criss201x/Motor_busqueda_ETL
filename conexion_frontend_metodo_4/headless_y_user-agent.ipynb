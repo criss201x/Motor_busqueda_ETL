{
 "cells": [
  {
   "cell_type": "code",
   "execution_count": 1,
   "metadata": {},
   "outputs": [],
   "source": [
    "from selenium import webdriver\n",
    "from selenium.webdriver.common.keys import Keys\n",
    "from selenium.webdriver.chrome.options import Options"
   ]
  },
  {
   "cell_type": "code",
   "execution_count": 2,
   "metadata": {},
   "outputs": [],
   "source": [
    "chromeOptions = Options()\n",
    "chromeOptions.headless = True\n",
    "chromeOptions.add_argument('user-agent=\"Mozilla/5.0 (Windows NT 10.0; WOW64) AppleWebKit/537.36 (KHTML, like Gecko) Chrome/70.0.3538.67 Safari/537.36\"')\n",
    "driver = webdriver.Chrome(executable_path=\"./chromedriver\", options=chromeOptions)"
   ]
  },
  {
   "cell_type": "code",
   "execution_count": 3,
   "metadata": {},
   "outputs": [
    {
     "name": "stdout",
     "output_type": "stream",
     "text": [
      "https://www.dropbox.com/sh/qe9h0jdh7fgz006/AACrQ4eX12vDXr1o5hRhbqY6a/horarios_20211_Facultad_Artes.pdf?dl=0\n",
      "https://www.dropbox.com/sh/qe9h0jdh7fgz006/AADcux12gjRmNg1mtxTvr8DDa/horarios_20211_Facultad_Ciencias.pdf?dl=0\n",
      "https://www.dropbox.com/sh/qe9h0jdh7fgz006/AACMS5si_n2l0Zk1pEZD2fdja/horarios_20211_Facultad_Ingenieria.pdf?dl=0\n",
      "https://www.dropbox.com/sh/qe9h0jdh7fgz006/AADGrOcbI99xxzSo4J3DEF6ba/horarios_20211_Facultad_Medio_Ambiente.pdf?dl=0\n",
      "https://www.dropbox.com/sh/qe9h0jdh7fgz006/AABKxL0pGF2pSG_i3mj6omT3a/horarios_20211_Facultad_Tecnologica.pdf?dl=0\n",
      "https://www.dropbox.com/sh/qe9h0jdh7fgz006/AAAKZTxiMQ2oDPnLn6-i8YKta/horarios_20211_Segunda_Lengua.pdf?dl=0\n"
     ]
    }
   ],
   "source": [
    "driver.get('https://www.dropbox.com/sh/qe9h0jdh7fgz006/AADWQ5v8_4YRIF61uAbu75oua?dl=0')\n",
    "enlaces = driver.find_elements_by_xpath('//a[contains(@href,\".pdf\")]')\n",
    "lista_enlaces = []\n",
    "for enlace in enlaces:    \n",
    "    lista_enlaces.append(enlace.get_attribute(\"href\"))\n",
    "    print(enlace.get_attribute(\"href\"))\n",
    "driver.close()\n",
    "driver.quit()"
   ]
  },
  {
   "cell_type": "code",
   "execution_count": null,
   "metadata": {},
   "outputs": [],
   "source": [
    "\n"
   ]
  },
  {
   "cell_type": "code",
   "execution_count": null,
   "metadata": {},
   "outputs": [],
   "source": []
  }
 ],
 "metadata": {
  "kernelspec": {
   "display_name": "Python 3",
   "language": "python",
   "name": "python3"
  },
  "language_info": {
   "codemirror_mode": {
    "name": "ipython",
    "version": 3
   },
   "file_extension": ".py",
   "mimetype": "text/x-python",
   "name": "python",
   "nbconvert_exporter": "python",
   "pygments_lexer": "ipython3",
   "version": "3.8.10"
  }
 },
 "nbformat": 4,
 "nbformat_minor": 4
}
