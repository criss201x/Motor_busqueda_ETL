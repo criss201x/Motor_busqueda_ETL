{
 "cells": [
  {
   "cell_type": "code",
   "execution_count": 17,
   "metadata": {},
   "outputs": [],
   "source": [
    "import mechanize"
   ]
  },
  {
   "cell_type": "code",
   "execution_count": 18,
   "metadata": {},
   "outputs": [
    {
     "name": "stdout",
     "output_type": "stream",
     "text": [
      "Extraido de: https://www.udistrital.edu.co/inicio\n",
      "Titulo del sitio web: Sistema de Gestión Académica\n",
      "Enlace: https://estudiantes.portaloas.udistrital.edu.co/appserv/\n",
      "titulo del enlace: Dropbox - horarios_2021_1 - Simplify your life\n",
      "Enlace: https://www.dropbox.com/sh/qe9h0jdh7fgz006/AADWQ5v8_4YRIF61uAbu75oua?dl=0\n"
     ]
    }
   ],
   "source": [
    "navegador = mechanize.Browser()\n",
    "navegador.set_handle_robots(False)\n",
    "navegador.open(\"https://www.udistrital.edu.co/\")\n",
    "for enlace in navegador.links(url_regex=\"estudiantes.portaloas\"):\n",
    "    print(\"Extraido de: \"+enlace.base_url)\n",
    "    #siga el segundo enlace con el texto del elemento que coincida con la expresión regular\n",
    "    respuesta = navegador.follow_link(enlace)\n",
    "    print(\"Titulo del sitio web: \"+navegador.title())\n",
    "    print(\"Enlace: \"+respuesta.geturl())\n",
    "    #print(response.info())#cabezeras\n",
    "    navegador.open(respuesta.geturl())\n",
    "    for subenlace in navegador.links(url_regex=\"dropbox\"):\n",
    "        respuesta2 = navegador.follow_link(subenlace)\n",
    "        print(\"titulo del enlace: \"+ navegador.title())\n",
    "        print(\"Enlace: \"+respuesta2.geturl())\n",
    "        #print(response2.info())#cabezeras\n",
    "    navegador.back()#cierra conexion "
   ]
  },
  {
   "cell_type": "code",
   "execution_count": 19,
   "metadata": {},
   "outputs": [
    {
     "name": "stdout",
     "output_type": "stream",
     "text": [
      "Accept-Ranges: bytes\n",
      "Content-Type: text/html; charset=UTF-8\n",
      "Date: Mon, 17 May 2021 01:46:04 GMT\n",
      "ETag: \"23a7-5bdd128549680\"\n",
      "Last-Modified: Thu, 18 Mar 2021 15:21:46 GMT\n",
      "Server: Apache\n",
      "Content-Length: 9127\n",
      "Connection: Close\n",
      "content-type: text/html; charset=UTF-8\n",
      "x-ua-compatible: IE=edge\n",
      "\n",
      "\n"
     ]
    }
   ],
   "source": [
    "print(respuesta.info())"
   ]
  },
  {
   "cell_type": "code",
   "execution_count": 20,
   "metadata": {},
   "outputs": [
    {
     "name": "stdout",
     "output_type": "stream",
     "text": [
      "Cache-Control: no-cache,no-cache, no-store\n",
      "Content-Security-Policy: base-uri 'self' ; child-src https://www.dropbox.com/static/serviceworker/ blob: ; connect-src https://* ws://127.0.0.1:*/ws ; default-src https://www.dropbox.com/playlist/ https://www.dropbox.com/v/s/playlist/ https://*.dropboxusercontent.com/p/hls_master_playlist/ https://*.dropboxusercontent.com/p/hls_playlist/ ; font-src https://* data: ; form-action https://docs.google.com/document/fsip/ https://docs.google.com/spreadsheets/fsip/ https://docs.google.com/presentation/fsip/ https://docs.sandbox.google.com/document/fsip/ https://docs.sandbox.google.com/spreadsheets/fsip/ https://docs.sandbox.google.com/presentation/fsip/ https://excel.purple.officeapps.live-int.com https://onenote.purple.officeapps.live-int.com https://powerpoint.purple.officeapps.live-int.com https://visio.purple.officeapps.live-int.com https://word-view.purple.officeapps.live-int.com https://word-edit.purple.officeapps.live-int.com https://officeapps-df.live.com https://excel.officeapps-df.live.com https://onenote.officeapps-df.live.com https://powerpoint.officeapps-df.live.com https://word-view.officeapps-df.live.com https://word-edit.officeapps-df.live.com https://officeapps.live.com https://excel.officeapps.live.com https://onenote.officeapps.live.com https://powerpoint.officeapps.live.com https://word-view.officeapps.live.com https://word-edit.officeapps.live.com https://paper.dropbox.com/cloud-docs/edit 'self' https://www.dropbox.com/ https://dl-web.dropbox.com/ https://photos.dropbox.com/ https://paper.dropbox.com/ https://showcase.dropbox.com/ https://www.hellofax.com/ https://app.hellofax.com/ https://www.hellosign.com/ https://app.hellosign.com/ https://help.dropbox.com/ https://navi.dropbox.jp/ https://selfguidedlearning.dropboxbusiness.com/ https://instructorledlearning.dropboxbusiness.com/ https://sales.dropboxbusiness.com/ https://dropboxconnect.co.uk/ https://accounts.google.com/ https://api.login.yahoo.com/ https://login.yahoo.com/ https://experience.dropbox.com/ https://pal-test.adyen.com https://2e83413d8036243b-Dropbox-pal-live.adyenpayments.com/ https://dl.dropboxusercontent.com ; frame-src https://* carousel: dbapi-6: dbapi-7: dbapi-8: dropbox-client: itms-apps: itms-appss: ; img-src https://* data: blob: ; media-src https://* blob: ; object-src 'self' https://cfl.dropboxstatic.com/static/ https://www.dropboxstatic.com/static/ ; report-uri https://www.dropbox.com/csp_log?policy_name=metaserver-whitelist ; script-src 'unsafe-eval' https://www.dropbox.com/static/api/ https://www.dropbox.com/page_success/ https://cfl.dropboxstatic.com/static/js/ https://www.dropboxstatic.com/static/js/ https://cfl.dropboxstatic.com/static/src/dws-ensemble-appshell/ https://www.dropboxstatic.com/static/src/dws-ensemble-appshell/ https://cfl.dropboxstatic.com/static/previews/ https://www.dropboxstatic.com/static/previews/ https://cfl.dropboxstatic.com/static/api/ https://www.dropboxstatic.com/static/api/ https://cfl.dropboxstatic.com/static/cms/ https://www.dropboxstatic.com/static/cms/ https://www.google.com/recaptcha/ https://www.gstatic.com/recaptcha/ 'unsafe-inline' ; style-src https://* 'unsafe-inline' 'unsafe-eval' ; worker-src https://www.dropbox.com/static/serviceworker/ blob:\n",
      "Content-Type: text/html; charset=utf-8\n",
      "Date: Mon, 17 May 2021 01:46:05 GMT\n",
      "Pragma: no-cache\n",
      "Referrer-Policy: strict-origin-when-cross-origin\n",
      "Server: envoy\n",
      "Set-Cookie: seen-sl-signup-modal=VHJ1ZQ%3D%3D; expires=Wed, 16 Jun 2021 01:46:05 GMT; Path=/; secure\n",
      "Set-Cookie: locale=en; Domain=dropbox.com; expires=Sat, 16 May 2026 01:46:05 GMT; Path=/; secure\n",
      "Set-Cookie: gvc=MTYzMDc4MDgyMDIxOTg5ODI4MTUwNDk5NjQ0OTk5NDAzNzA5Mzgx; expires=Sat, 16 May 2026 01:46:05 GMT; httponly; Path=/; secure\n",
      "Set-Cookie: flash=; Domain=dropbox.com; expires=Mon, 17 May 2021 01:46:05 GMT; Path=/; secure\n",
      "Set-Cookie: puc=; expires=Mon, 17 May 2021 01:46:05 GMT; httponly; Path=/; secure\n",
      "Set-Cookie: bang=; Domain=dropbox.com; expires=Mon, 17 May 2021 01:46:05 GMT; Path=/; secure\n",
      "Set-Cookie: t=51WJEj_rKUGJCL58XWWPYwhS; Domain=dropbox.com; expires=Thu, 16 May 2024 01:46:05 GMT; httponly; Path=/; secure\n",
      "Set-Cookie: __Host-js_csrf=51WJEj_rKUGJCL58XWWPYwhS; expires=Thu, 16 May 2024 01:46:05 GMT; Path=/; secure\n",
      "X-Content-Type-Options: nosniff\n",
      "X-Frame-Options: DENY\n",
      "X-Permitted-Cross-Domain-Policies: none\n",
      "X-Robots-Tag: noindex, nofollow, noimageindex\n",
      "X-Xss-Protection: 1; mode=block\n",
      "Strict-Transport-Security: max-age=31536000; includeSubDomains\n",
      "Strict-Transport-Security: max-age=31536000; includeSubDomains\n",
      "Vary: Accept-Encoding\n",
      "X-Dropbox-Response-Origin: far_remote\n",
      "X-Dropbox-Request-Id: 5de6c24a3d7d4c3dbe54fc62557c7dda\n",
      "Connection: close\n",
      "Transfer-Encoding: chunked\n",
      "\n",
      "\n"
     ]
    }
   ],
   "source": [
    "print(respuesta2.info())"
   ]
  },
  {
   "cell_type": "code",
   "execution_count": null,
   "metadata": {},
   "outputs": [],
   "source": []
  }
 ],
 "metadata": {
  "kernelspec": {
   "display_name": "Python 3",
   "language": "python",
   "name": "python3"
  },
  "language_info": {
   "codemirror_mode": {
    "name": "ipython",
    "version": 3
   },
   "file_extension": ".py",
   "mimetype": "text/x-python",
   "name": "python",
   "nbconvert_exporter": "python",
   "pygments_lexer": "ipython3",
   "version": "3.8.5"
  }
 },
 "nbformat": 4,
 "nbformat_minor": 4
}
