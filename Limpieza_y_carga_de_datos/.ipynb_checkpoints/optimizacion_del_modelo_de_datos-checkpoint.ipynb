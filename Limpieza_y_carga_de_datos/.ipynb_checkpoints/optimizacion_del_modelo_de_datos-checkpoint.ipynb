{
 "cells": [
  {
   "cell_type": "code",
   "execution_count": null,
   "id": "8f4da76d-57c6-46bd-b6f2-25fcfca1cbad",
   "metadata": {},
   "outputs": [],
   "source": [
    "import json\n",
    "from json import dumps\n",
    "import pandas as pd\n",
    "import numpy as np"
   ]
  },
  {
   "cell_type": "code",
   "execution_count": null,
   "id": "03b12dae-f400-4c81-999d-79425b4077e1",
   "metadata": {},
   "outputs": [],
   "source": [
    "df =  pd.read_json (r'horarios_20211_Facultad_artes_limpio.json', encoding='utf-8')"
   ]
  },
  {
   "cell_type": "code",
   "execution_count": null,
   "id": "1e47ba10-8eb4-41a0-aa2a-95469a383ab1",
   "metadata": {},
   "outputs": [],
   "source": [
    "def split_df(df):\n",
    "    for sede, df_sede in df.groupby(\"Sede\"):\n",
    "        yield {\n",
    "            \"Sede\": sede,    \n",
    "            \"Proyectos_curriculares\": list(split_proyectos(df_sede))\n",
    "        }\n",
    "\n",
    "def split_proyectos(df_sede):\n",
    "    for proyecto, df_proyecto in df_sede.groupby(\"Proyecto_curricular\"):\n",
    "        yield {\n",
    "            \"Proyecto_curricular\": proyecto,\n",
    "            \"espacios\": list(split_espacio(df_proyecto)),\n",
    "        }\n",
    "    \n",
    "        \n",
    "def split_espacio(df_proyecto):\n",
    "    for (esp,cod), df_grp in df_proyecto.groupby([\"Espacio_Academico\",\"Cod\"]):\n",
    "        yield {\n",
    "            \"Espacio_Academico\": esp,\n",
    "            \"Cod\": int(cod),\n",
    "            #\"Grp\": grupo,\n",
    "            \"grupos\": list(split_grupo(df_grp)),\n",
    "        }\n",
    "        \n",
    "def split_grupo(df_grp):\n",
    "    for (grupo,ins), df_esp in df_grp.groupby([\"Grp\",\"INSCRITOS\"]):\n",
    "        yield {\n",
    "            \"Grp\": grupo,\n",
    "            #\"Espacio_Academico\": esp,\n",
    "            \"INSCRITOS\": int(ins),\n",
    "            \"lugar\": list(split_lugar(df_esp)),\n",
    "        }\n",
    "\n",
    "def split_lugar(df_esp):\n",
    "    for (dia,edd,salon), df_lug in df_esp.groupby([\"Dia\",\"Edificio\",\"Salon\"]):        \n",
    "        yield {\n",
    "            \"Dia\": dia,\n",
    "            \"Edificio\": edd,\n",
    "            \"Salon\": salon,\n",
    "            \"horas\": list(split_datos(df_lug)),\n",
    "        }\n",
    "\n",
    "def split_datos(df_lug):\n",
    "    nuevos = df_lug.drop(['Dia','Edificio', 'Salon', 'Espacio_Academico', 'Cod', 'INSCRITOS', 'Grp', 'Proyecto_curricular', 'Sede'], axis=1)\n",
    "    for row in nuevos.itertuples():\n",
    "        yield {\n",
    "            \"Hora\": row.Hora,\n",
    "            \"Docente\": row.Docente,\n",
    "        }\n",
    "\n",
    "data = list(split_df(df))"
   ]
  },
  {
   "cell_type": "code",
   "execution_count": null,
   "id": "bc2a6990-87f1-405d-9bc2-0c92cb06fd2e",
   "metadata": {},
   "outputs": [],
   "source": [
    "f = open(\"pruebas_optimizacion_1.json\", 'w+',encoding='utf-8')\n",
    "f.write(json.dumps(data, indent=4, sort_keys=True))\n",
    "f.close()"
   ]
  },
  {
   "cell_type": "markdown",
   "id": "48a9aff7-a721-45da-96eb-3fa33d01d3fd",
   "metadata": {},
   "source": [
    "# **NO SIRVE!**"
   ]
  },
  {
   "cell_type": "code",
   "execution_count": null,
   "id": "239d0804-2c0a-49a6-9711-364779feb5df",
   "metadata": {
    "tags": []
   },
   "outputs": [],
   "source": [
    "#df.head()\n",
    "json_dict = {}\n",
    "json_dict = []\n",
    "for sede, sede_data in df.groupby('Sede'):\n",
    "    sede_dict = {}\n",
    "    sede_dict['Sede'] = sede\n",
    "    sede_dict = []\n",
    "    for pr, pr_data in sede_data.groupby('Proyecto_curricular'):\n",
    "        pr_dict = {}\n",
    "        pr_dict['Proyecto_curricular'] = pr        \n",
    "        for grp, grp_data in pr_data.groupby('Grp'):\n",
    "            pr_dict = []\n",
    "            grp_dict = {}\n",
    "            grp_dict['Grp'] = grp            \n",
    "            for cod, cod_data in grp_data.groupby(['Cod','Espacio_Academico','INSCRITOS']):\n",
    "                grp_dict = []\n",
    "                cod_dict = {}\n",
    "                cod_dict['Cod'] = cod[0]\n",
    "                cod_dict['Espacio_Academico'] = cod[1]\n",
    "                cod_dict['INSCRITOS'] = cod[2]                \n",
    "                for des, des_data in cod_data.groupby(['Edificio','Dia','Salon']):\n",
    "                    cod_dict = []\n",
    "                    esp = {}\n",
    "                    esp['Edificio'] = des[0]\n",
    "                    esp['Dia'] = des[1]\n",
    "                    esp['Salon'] = des[2]    \n",
    "                    esp = []\n",
    "                    p_data = des_data\n",
    "                    for hora in p_data.to_dict(orient='records'):\n",
    "                        print(p_data)\n",
    "\n",
    "#son_out = dumps(json_dict)\n",
    "#arsed = json.loads(json_out)\n",
    "#son.dumps(parsed, indent=4, sort_keys=True)"
   ]
  },
  {
   "cell_type": "code",
   "execution_count": null,
   "id": "a0fe185b-7737-4e5c-8698-701a6b176b29",
   "metadata": {},
   "outputs": [],
   "source": [
    "data = (df.groupby(['Sede'], as_index=True)\n",
    "        .apply(lambda x: list(x.groupby(['Proyecto_curricular'], as_index=False)))        \n",
    "        #.apply(lambda x: list(x.groupby(['Espacio_Academico','Cod','Grp','INSCRITOS'], as_index=False)))\n",
    "        #.apply(lambda x: x[['Cod','Dia','Docente','Edificio','Espacio_Academico','Grp','Hora','INSCRITOS','Proyecto_curricular','Salon']].to_dict('r'))\t\t\t\t\t                    \n",
    "        .reset_index()\n",
    "        .to_json(orient='records'))"
   ]
  },
  {
   "cell_type": "code",
   "execution_count": null,
   "id": "2aa9d4be-feee-4e04-8178-71e6758de50c",
   "metadata": {},
   "outputs": [],
   "source": [
    "print(json.dumps(json.loads(data), indent=4))"
   ]
  },
  {
   "cell_type": "code",
   "execution_count": null,
   "id": "16a97b34-d158-4459-87c5-4fe5e515eb8f",
   "metadata": {},
   "outputs": [],
   "source": []
  },
  {
   "cell_type": "code",
   "execution_count": null,
   "id": "7cc83c50-c4be-4567-b865-608b5be7cb27",
   "metadata": {},
   "outputs": [],
   "source": [
    "data = df.groupby('Sede')[['Chain','Food','Healthy']]\n",
    "       .apply(lambda x: x.set_index('Chain').to_dict(orient='index'))\n",
    "       .to_dict()\n",
    "data"
   ]
  },
  {
   "cell_type": "code",
   "execution_count": null,
   "id": "b7ef71ed-37a3-4903-a366-60ec0a676ccb",
   "metadata": {},
   "outputs": [],
   "source": []
  },
  {
   "cell_type": "code",
   "execution_count": null,
   "id": "2356721b-9ff5-4182-83d5-5a5f132450e2",
   "metadata": {},
   "outputs": [],
   "source": [
    "json_out = dumps(data)\n",
    "parsed = json.loads(json_out)\n",
    "json.dumps(parsed, indent=4, sort_keys=True)"
   ]
  },
  {
   "cell_type": "code",
   "execution_count": null,
   "id": "c4cb6dd0-cc12-4df5-ba49-5fb4caecf42a",
   "metadata": {},
   "outputs": [],
   "source": [
    "\n",
    "    "
   ]
  },
  {
   "cell_type": "code",
   "execution_count": null,
   "id": "7b0c04fc-905a-4833-915d-25ba587a46b7",
   "metadata": {},
   "outputs": [],
   "source": []
  }
 ],
 "metadata": {
  "kernelspec": {
   "display_name": "Python 3",
   "language": "python",
   "name": "python3"
  },
  "language_info": {
   "codemirror_mode": {
    "name": "ipython",
    "version": 3
   },
   "file_extension": ".py",
   "mimetype": "text/x-python",
   "name": "python",
   "nbconvert_exporter": "python",
   "pygments_lexer": "ipython3",
   "version": "3.8.10"
  }
 },
 "nbformat": 4,
 "nbformat_minor": 5
}
