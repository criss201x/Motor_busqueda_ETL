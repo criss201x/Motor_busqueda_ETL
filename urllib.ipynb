{
 "cells": [
  {
   "cell_type": "code",
   "execution_count": 1,
   "id": "e280723d-1fa8-4547-871c-9a18a5be73cb",
   "metadata": {},
   "outputs": [],
   "source": [
    "import urllib"
   ]
  },
  {
   "cell_type": "code",
   "execution_count": 2,
   "id": "2828e4e2-a80f-4ff2-9161-be0ddd2cb536",
   "metadata": {},
   "outputs": [
    {
     "name": "stdout",
     "output_type": "stream",
     "text": [
      "usando proxy HTTP https://www.udistrital.edu.co\n"
     ]
    }
   ],
   "source": [
    "proxies = {'http': 'https://www.udistrital.edu.co'}\n",
    "print(\"usando proxy HTTP %s\" % proxies['http'])"
   ]
  },
  {
   "cell_type": "code",
   "execution_count": 51,
   "id": "37f8636b-6a98-485d-983f-a4dae9f3209b",
   "metadata": {},
   "outputs": [
    {
     "name": "stdout",
     "output_type": "stream",
     "text": [
      "url: https://estudiantes.portaloas.udistrital.edu.co/\n",
      "Codigo de respuesta http: 200\n",
      "llaves: ['Accept-Ranges', 'Content-Type', 'Date', 'ETag', 'Last-Modified', 'Server', 'Content-Length', 'Connection']\n",
      "cabeceras: ['bytes', 'text/html; charset=UTF-8', 'Sat, 15 May 2021 17:04:29 GMT', '\"44-5bdd128549680\"', 'Thu, 18 Mar 2021 15:21:46 GMT', 'Apache', '68', 'Close']\n"
     ]
    }
   ],
   "source": [
    "response = urllib.request.urlopen(\"https://estudiantes.portaloas.udistrital.edu.co/\")\n",
    "print(\"url: \"+response.geturl()) \n",
    "print(\"Codigo de respuesta http: \"+str(response.getcode()))\n",
    "print(\"llaves: \"+str(response.headers.keys()))\n",
    "print(\"cabeceras: \"+str(response.headers.values()))"
   ]
  },
  {
   "cell_type": "code",
   "execution_count": null,
   "id": "f137d2ee-6f9d-4276-a9a1-7594b9fb4612",
   "metadata": {},
   "outputs": [],
   "source": []
  },
  {
   "cell_type": "code",
   "execution_count": null,
   "id": "86ddcd23-45bf-453e-b8d1-d7cfeb023c85",
   "metadata": {},
   "outputs": [],
   "source": []
  }
 ],
 "metadata": {
  "kernelspec": {
   "display_name": "Python 3",
   "language": "python",
   "name": "python3"
  },
  "language_info": {
   "codemirror_mode": {
    "name": "ipython",
    "version": 3
   },
   "file_extension": ".py",
   "mimetype": "text/x-python",
   "name": "python",
   "nbconvert_exporter": "python",
   "pygments_lexer": "ipython3",
   "version": "3.8.8"
  }
 },
 "nbformat": 4,
 "nbformat_minor": 5
}
