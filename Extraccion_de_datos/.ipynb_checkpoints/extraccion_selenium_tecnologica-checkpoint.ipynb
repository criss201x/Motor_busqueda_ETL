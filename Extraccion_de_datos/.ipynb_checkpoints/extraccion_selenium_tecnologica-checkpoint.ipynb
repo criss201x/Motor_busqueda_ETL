{
 "cells": [
  {
   "cell_type": "code",
   "execution_count": 1,
   "id": "e2af76e0-dbdc-4786-a875-6c3df9f90f9e",
   "metadata": {},
   "outputs": [],
   "source": [
    "import time\n",
    "import os\n",
    "from selenium.webdriver.common.keys import Keys\n",
    "from selenium import webdriver \n",
    "from selenium.webdriver.chrome.options import Options\n",
    "import json "
   ]
  },
  {
   "cell_type": "code",
   "execution_count": null,
   "id": "830a7e6a-a59b-48b6-a62c-9f522718436a",
   "metadata": {},
   "outputs": [],
   "source": [
    "enlace = \"https://www.dropbox.com/sh/qe9h0jdh7fgz006/AADWQ5v8_4YRIF61uAbu75oua?dl=0&lst=&preview=horarios_20211_Facultad_Artes.pdf\"\n",
    "chrome_options=Options()\n",
    "conf_cliente = {\"plugins.plugins_list\": [{\"enabled\": False, \"name\": \"Chrome PDF Viewer\"}], \"download.default_directory\": os.getcwd()}\n",
    "chrome_options.add_experimental_option(\"prefs\", conf_cliente)\n",
    "chrome_options.headless = True\n",
    "chrome_options.add_argument(\"window-size=1920,1080\")\n",
    "chrome_options.add_argument('user-agent=\"Mozilla/5.0 (Windows NT 10.0; WOW64) AppleWebKit/537.36 (KHTML, like Gecko) Chrome/70.0.3538.67 Safari/537.36\"')\n",
    "navegador = webdriver.Chrome(r'./chromedriver', options=chrome_options)\n",
    "navegador.get(enlace)\n",
    "time.sleep(3)\n",
    "item = navegador.find_element_by_class_name('viewer-container')"
   ]
  },
  {
   "cell_type": "code",
   "execution_count": null,
   "id": "29153c1c-c7e2-41f8-a048-0faef2409f1a",
   "metadata": {},
   "outputs": [],
   "source": [
    "item2 = item.find_element_by_class_name(\"EQJE7qmsBz\")\n",
    "contenedor = item2.find_element_by_tag_name('ol')#lista ordenada html\n",
    "pagina_0 = contenedor.find_elements_by_tag_name('li')#elemento de lista  html\n",
    "json_scraper = []\n",
    "\n",
    "for item in pagina_0:        \n",
    "    if int(item.get_attribute(\"data-index\")) == 10:\n",
    "        break                                    \n",
    "item.location_once_scrolled_into_view\n",
    "\n",
    "def proceso(indice):        \n",
    "    paginas = contenedor.find_elements_by_tag_name('li')    \n",
    "    for pagina in paginas:            \n",
    "        if int(pagina.get_attribute(\"data-index\")) >= indice+1 or int(pagina.get_attribute(\"data-index\")) == 0:            \n",
    "            json_scraper.append({\"Pagina\": int(pagina.get_attribute(\"data-index\")), \"nodos\":[] }) \n",
    "            nodos = pagina.find_elements_by_tag_name('text')                \n",
    "            for data2 in nodos:\n",
    "                json_scraper[int(pagina.get_attribute(\"data-index\"))][\"nodos\"].append({'valor_eje_y': float(data2.get_attribute(\"y\")),'dato': data2.text})                               \n",
    "            print(\"Indice: \" + str(indice) + \" Pagina: \" +pagina.get_attribute(\"data-index\")+\" Datos Extraidos: \"+ str(len(nodos)))  \n",
    "    pagina.location_once_scrolled_into_view\n",
    "    \n",
    "indice = 0\n",
    "while indice <= 410:#cantidad de paginas del pdf        \n",
    "    if indice == 0:                \n",
    "        proceso(0)\n",
    "        time.sleep(0.5)    \n",
    "        indice += 12        \n",
    "    else:        \n",
    "        proceso(indice)\n",
    "        indice += 2\n",
    "        time.sleep(0.5)    \n",
    "    indice += 11\n",
    "    \n",
    "f = open(\"horarios_20211_Facultad_Artes.json\", 'w+')\n",
    "f.write(json.dumps(json_scraper, indent=4, sort_keys=True))\n",
    "f.close()"
   ]
  },
  {
   "cell_type": "code",
   "execution_count": null,
   "id": "228efe9d-5b0f-436c-a430-acd38a768ab6",
   "metadata": {},
   "outputs": [],
   "source": [
    "\n"
   ]
  },
  {
   "cell_type": "code",
   "execution_count": null,
   "id": "7104cd90-8d1e-4f15-b586-d2067c4aeec4",
   "metadata": {},
   "outputs": [],
   "source": []
  },
  {
   "cell_type": "code",
   "execution_count": null,
   "id": "08a15abf-4185-413a-b189-bb315e25c1ee",
   "metadata": {},
   "outputs": [],
   "source": []
  },
  {
   "cell_type": "code",
   "execution_count": null,
   "id": "4ced08f7-1bea-4a04-b840-d1203dbd024e",
   "metadata": {},
   "outputs": [],
   "source": []
  },
  {
   "cell_type": "code",
   "execution_count": null,
   "id": "fc567d7b-364e-44d6-9659-a9472f0331e4",
   "metadata": {},
   "outputs": [],
   "source": []
  }
 ],
 "metadata": {
  "kernelspec": {
   "display_name": "Python 3",
   "language": "python",
   "name": "python3"
  },
  "language_info": {
   "codemirror_mode": {
    "name": "ipython",
    "version": 3
   },
   "file_extension": ".py",
   "mimetype": "text/x-python",
   "name": "python",
   "nbconvert_exporter": "python",
   "pygments_lexer": "ipython3",
   "version": "3.8.10"
  }
 },
 "nbformat": 4,
 "nbformat_minor": 5
}
