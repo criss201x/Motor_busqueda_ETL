{
 "cells": [
  {
   "cell_type": "code",
   "execution_count": 2,
   "metadata": {},
   "outputs": [],
   "source": [
    "import PyPDF2\n",
    "from PyPDF2 import PdfFileReader"
   ]
  },
  {
   "cell_type": "code",
   "execution_count": 7,
   "metadata": {},
   "outputs": [],
   "source": [
    "ruta_pdf = 'horarios_20211_Facultad_Tecnologica.pdf'\n",
    "pdf = PdfFileReader(str(ruta_pdf))"
   ]
  },
  {
   "cell_type": "code",
   "execution_count": 24,
   "metadata": {},
   "outputs": [
    {
     "name": "stdout",
     "output_type": "stream",
     "text": [
      "Paginas: 365\n",
      "informacion: {'/Producer': 'FPDF 1.52', '/Title': 'Horarios por Facultad y Proyecto curricular', '/Author': 'Reportico', '/Creator': 'Reportico', '/CreationDate': 'D:20210320195142'}\n"
     ]
    }
   ],
   "source": [
    "print(\"Paginas: \"+ str(pdf.getNumPages()))\n",
    "print(\"informacion: \"+ str(pdf.getDocumentInfo()))"
   ]
  },
  {
   "cell_type": "code",
   "execution_count": 20,
   "metadata": {},
   "outputs": [
    {
     "name": "stdout",
     "output_type": "stream",
     "text": [
      "{'/Type': '/Page', '/Parent': IndirectObject(1, 0), '/Resources': IndirectObject(2, 0), '/Contents': IndirectObject(4, 0), '/MediaBox': [0, 0, 1008, 612]}\n"
     ]
    }
   ],
   "source": [
    "primera_pagina = pdf.getPage(0)\n",
    "print(primera_pagina)"
   ]
  },
  {
   "cell_type": "code",
   "execution_count": null,
   "metadata": {},
   "outputs": [],
   "source": []
  },
  {
   "cell_type": "code",
   "execution_count": null,
   "metadata": {},
   "outputs": [],
   "source": []
  },
  {
   "cell_type": "code",
   "execution_count": null,
   "metadata": {},
   "outputs": [],
   "source": []
  }
 ],
 "metadata": {
  "kernelspec": {
   "display_name": "Python 3",
   "language": "python",
   "name": "python3"
  },
  "language_info": {
   "codemirror_mode": {
    "name": "ipython",
    "version": 3
   },
   "file_extension": ".py",
   "mimetype": "text/x-python",
   "name": "python",
   "nbconvert_exporter": "python",
   "pygments_lexer": "ipython3",
   "version": "3.8.10"
  }
 },
 "nbformat": 4,
 "nbformat_minor": 4
}
