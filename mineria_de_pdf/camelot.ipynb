{
 "cells": [
  {
   "cell_type": "code",
   "execution_count": 1,
   "id": "543b351f-5f97-47b3-b8b9-2f77b08b737b",
   "metadata": {},
   "outputs": [],
   "source": [
    "import camelot"
   ]
  },
  {
   "cell_type": "code",
   "execution_count": 27,
   "id": "95c0e32b-1bd2-4893-998f-6ea4e55cf5ed",
   "metadata": {},
   "outputs": [
    {
     "name": "stderr",
     "output_type": "stream",
     "text": [
      "UserWarning: No tables found on page-0 [stream.py:447]\n"
     ]
    }
   ],
   "source": [
    "tables2=camelot.read_pdf('horarios_20211_Facultad_Artes.pdf', flavor='stream', pages='0-50')"
   ]
  },
  {
   "cell_type": "code",
   "execution_count": 28,
   "id": "a794b547-d510-488e-97d0-a590eb7c5f30",
   "metadata": {},
   "outputs": [
    {
     "data": {
      "text/plain": [
       "<TableList n=51>"
      ]
     },
     "execution_count": 28,
     "metadata": {},
     "output_type": "execute_result"
    }
   ],
   "source": [
    "tables2"
   ]
  },
  {
   "cell_type": "code",
   "execution_count": 29,
   "id": "6ed95c17-e861-4c98-a0e0-a8879c8be0be",
   "metadata": {},
   "outputs": [
    {
     "data": {
      "text/plain": [
       "{'accuracy': 100.0, 'whitespace': 57.69, 'order': 1, 'page': 2}"
      ]
     },
     "execution_count": 29,
     "metadata": {},
     "output_type": "execute_result"
    }
   ],
   "source": [
    "tables2[2].parsing_report"
   ]
  },
  {
   "cell_type": "code",
   "execution_count": 45,
   "id": "ce627449-9d49-47af-b542-f1aedcdde63d",
   "metadata": {},
   "outputs": [
    {
     "data": {
      "text/html": [
       "<div>\n",
       "<style scoped>\n",
       "    .dataframe tbody tr th:only-of-type {\n",
       "        vertical-align: middle;\n",
       "    }\n",
       "\n",
       "    .dataframe tbody tr th {\n",
       "        vertical-align: top;\n",
       "    }\n",
       "\n",
       "    .dataframe thead th {\n",
       "        text-align: right;\n",
       "    }\n",
       "</style>\n",
       "<table border=\"1\" class=\"dataframe\">\n",
       "  <thead>\n",
       "    <tr style=\"text-align: right;\">\n",
       "      <th></th>\n",
       "      <th>0</th>\n",
       "      <th>1</th>\n",
       "      <th>2</th>\n",
       "      <th>3</th>\n",
       "      <th>4</th>\n",
       "      <th>5</th>\n",
       "      <th>6</th>\n",
       "      <th>7</th>\n",
       "    </tr>\n",
       "  </thead>\n",
       "  <tbody>\n",
       "    <tr>\n",
       "      <th>0</th>\n",
       "      <td>Cod.</td>\n",
       "      <td>Espacio Academico</td>\n",
       "      <td>Dia</td>\n",
       "      <td>Hora</td>\n",
       "      <td>Sede</td>\n",
       "      <td>Edificio</td>\n",
       "      <td>Salon</td>\n",
       "      <td>Docente</td>\n",
       "    </tr>\n",
       "    <tr>\n",
       "      <th>1</th>\n",
       "      <td>3002</td>\n",
       "      <td>PRODUCCION Y COMPRENSION DE TEXTOS</td>\n",
       "      <td>MARTES</td>\n",
       "      <td>11-12</td>\n",
       "      <td>CENTRO</td>\n",
       "      <td>CENTRO CULTURAL NUEVA</td>\n",
       "      <td>S. JUEGOS</td>\n",
       "      <td>CARDENAS GARZON JOHN MARIO</td>\n",
       "    </tr>\n",
       "    <tr>\n",
       "      <th>2</th>\n",
       "      <td></td>\n",
       "      <td></td>\n",
       "      <td></td>\n",
       "      <td></td>\n",
       "      <td>CULTURAL</td>\n",
       "      <td>SANTAFE</td>\n",
       "      <td></td>\n",
       "      <td></td>\n",
       "    </tr>\n",
       "    <tr>\n",
       "      <th>3</th>\n",
       "      <td></td>\n",
       "      <td></td>\n",
       "      <td></td>\n",
       "      <td></td>\n",
       "      <td>NUEVA</td>\n",
       "      <td></td>\n",
       "      <td></td>\n",
       "      <td></td>\n",
       "    </tr>\n",
       "    <tr>\n",
       "      <th>4</th>\n",
       "      <td></td>\n",
       "      <td></td>\n",
       "      <td></td>\n",
       "      <td></td>\n",
       "      <td>SANTAFE</td>\n",
       "      <td></td>\n",
       "      <td></td>\n",
       "      <td></td>\n",
       "    </tr>\n",
       "    <tr>\n",
       "      <th>5</th>\n",
       "      <td>3002</td>\n",
       "      <td>PRODUCCION Y COMPRENSION DE TEXTOS</td>\n",
       "      <td>JUEVES</td>\n",
       "      <td>8-9</td>\n",
       "      <td>CENTRO</td>\n",
       "      <td>CENTRO CULTURAL NUEVA</td>\n",
       "      <td>S. JUEGOS</td>\n",
       "      <td>CARDENAS GARZON JOHN MARIO</td>\n",
       "    </tr>\n",
       "    <tr>\n",
       "      <th>6</th>\n",
       "      <td></td>\n",
       "      <td></td>\n",
       "      <td></td>\n",
       "      <td></td>\n",
       "      <td>CULTURAL</td>\n",
       "      <td>SANTAFE</td>\n",
       "      <td></td>\n",
       "      <td></td>\n",
       "    </tr>\n",
       "    <tr>\n",
       "      <th>7</th>\n",
       "      <td></td>\n",
       "      <td></td>\n",
       "      <td></td>\n",
       "      <td></td>\n",
       "      <td>NUEVA</td>\n",
       "      <td></td>\n",
       "      <td></td>\n",
       "      <td></td>\n",
       "    </tr>\n",
       "    <tr>\n",
       "      <th>8</th>\n",
       "      <td></td>\n",
       "      <td></td>\n",
       "      <td></td>\n",
       "      <td></td>\n",
       "      <td>SANTAFE</td>\n",
       "      <td></td>\n",
       "      <td></td>\n",
       "      <td></td>\n",
       "    </tr>\n",
       "    <tr>\n",
       "      <th>9</th>\n",
       "      <td>3002</td>\n",
       "      <td>PRODUCCION Y COMPRENSION DE TEXTOS</td>\n",
       "      <td>JUEVES</td>\n",
       "      <td>9-10</td>\n",
       "      <td>CENTRO</td>\n",
       "      <td>CENTRO CULTURAL NUEVA</td>\n",
       "      <td>S. JUEGOS</td>\n",
       "      <td>CARDENAS GARZON JOHN MARIO</td>\n",
       "    </tr>\n",
       "    <tr>\n",
       "      <th>10</th>\n",
       "      <td></td>\n",
       "      <td></td>\n",
       "      <td></td>\n",
       "      <td></td>\n",
       "      <td>CULTURAL</td>\n",
       "      <td>SANTAFE</td>\n",
       "      <td></td>\n",
       "      <td></td>\n",
       "    </tr>\n",
       "    <tr>\n",
       "      <th>11</th>\n",
       "      <td></td>\n",
       "      <td></td>\n",
       "      <td></td>\n",
       "      <td></td>\n",
       "      <td>NUEVA</td>\n",
       "      <td></td>\n",
       "      <td></td>\n",
       "      <td></td>\n",
       "    </tr>\n",
       "    <tr>\n",
       "      <th>12</th>\n",
       "      <td></td>\n",
       "      <td></td>\n",
       "      <td></td>\n",
       "      <td></td>\n",
       "      <td>SANTAFE</td>\n",
       "      <td></td>\n",
       "      <td></td>\n",
       "      <td></td>\n",
       "    </tr>\n",
       "  </tbody>\n",
       "</table>\n",
       "</div>"
      ],
      "text/plain": [
       "       0                                   1       2      3         4  \\\n",
       "0   Cod.                   Espacio Academico     Dia   Hora      Sede   \n",
       "1   3002  PRODUCCION Y COMPRENSION DE TEXTOS  MARTES  11-12    CENTRO   \n",
       "2                                                            CULTURAL   \n",
       "3                                                               NUEVA   \n",
       "4                                                             SANTAFE   \n",
       "5   3002  PRODUCCION Y COMPRENSION DE TEXTOS  JUEVES    8-9    CENTRO   \n",
       "6                                                            CULTURAL   \n",
       "7                                                               NUEVA   \n",
       "8                                                             SANTAFE   \n",
       "9   3002  PRODUCCION Y COMPRENSION DE TEXTOS  JUEVES   9-10    CENTRO   \n",
       "10                                                           CULTURAL   \n",
       "11                                                              NUEVA   \n",
       "12                                                            SANTAFE   \n",
       "\n",
       "                        5          6                           7  \n",
       "0                Edificio      Salon                     Docente  \n",
       "1   CENTRO CULTURAL NUEVA  S. JUEGOS  CARDENAS GARZON JOHN MARIO  \n",
       "2                 SANTAFE                                         \n",
       "3                                                                 \n",
       "4                                                                 \n",
       "5   CENTRO CULTURAL NUEVA  S. JUEGOS  CARDENAS GARZON JOHN MARIO  \n",
       "6                 SANTAFE                                         \n",
       "7                                                                 \n",
       "8                                                                 \n",
       "9   CENTRO CULTURAL NUEVA  S. JUEGOS  CARDENAS GARZON JOHN MARIO  \n",
       "10                SANTAFE                                         \n",
       "11                                                                \n",
       "12                                                                "
      ]
     },
     "execution_count": 45,
     "metadata": {},
     "output_type": "execute_result"
    }
   ],
   "source": [
    "df2=tables2[2].df\n",
    "df2.head(100)"
   ]
  },
  {
   "cell_type": "code",
   "execution_count": null,
   "id": "bf5b47c9-1dc8-4f5e-b31f-b6e81916a4b3",
   "metadata": {},
   "outputs": [],
   "source": []
  },
  {
   "cell_type": "code",
   "execution_count": null,
   "id": "df30dd17-249e-4040-9da5-c564415ecb1d",
   "metadata": {},
   "outputs": [],
   "source": []
  }
 ],
 "metadata": {
  "kernelspec": {
   "display_name": "Python 3",
   "language": "python",
   "name": "python3"
  },
  "language_info": {
   "codemirror_mode": {
    "name": "ipython",
    "version": 3
   },
   "file_extension": ".py",
   "mimetype": "text/x-python",
   "name": "python",
   "nbconvert_exporter": "python",
   "pygments_lexer": "ipython3",
   "version": "3.8.10"
  }
 },
 "nbformat": 4,
 "nbformat_minor": 5
}
