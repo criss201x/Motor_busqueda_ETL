{
 "cells": [
  {
   "cell_type": "code",
   "execution_count": 10,
   "metadata": {},
   "outputs": [],
   "source": [
    "import requests # pip install requests\n",
    "from lxml import html # pip install lxml"
   ]
  },
  {
   "cell_type": "code",
   "execution_count": 11,
   "metadata": {},
   "outputs": [],
   "source": [
    "# USER AGENT PARA EVITAR BANEO\n",
    "headers = {\n",
    "    \"user-agent\": \"Mozilla/5.0 (X11; Linux x86_64) AppleWebKit/537.36 (KHTML, like Gecko) Ubuntu Chromium/71.0.3578.80 Chrome/71.0.3578.80 Safari/537.36\",\n",
    "}"
   ]
  },
  {
   "cell_type": "code",
   "execution_count": 12,
   "metadata": {},
   "outputs": [],
   "source": [
    "# URL SEMILLA\n",
    "url = 'https://estudiantes.portaloas.udistrital.edu.co/appserv/'"
   ]
  },
  {
   "cell_type": "code",
   "execution_count": 13,
   "metadata": {},
   "outputs": [],
   "source": [
    "# REQUERIMIENTO AL SERVIDOR\n",
    "respuesta = requests.get(url, headers=headers)"
   ]
  },
  {
   "cell_type": "code",
   "execution_count": 14,
   "metadata": {},
   "outputs": [],
   "source": [
    "# PARSEO DEL ARBOL HTML QUE RECIBO COMO RESPUESTA CON LXML\n",
    "parser = html.fromstring(respuesta.text)"
   ]
  },
  {
   "cell_type": "code",
   "execution_count": 15,
   "metadata": {},
   "outputs": [
    {
     "name": "stdout",
     "output_type": "stream",
     "text": [
      "\n",
      "\t\t\t\t\t\n",
      "\t\t\t\t\tNoticias\n",
      "\t\t\t\t\t\n",
      "                      .demo{border:1px solid #C0C0C0;border-collapse:collapse;padding:5px;}.demo th{border:1px solid #C0C0C0;padding:5px;background:#F0F0F0;}.demo td{border:1px solid #C0C0C0;padding:5px;}\n",
      "\t\t\t\t\t\t\n",
      "\t\t\t\t\t\t\tHorario de Inscripciones 2021-1\n",
      "\t\t\t\t\t\t\t\n",
      "\t\t\t\t\t\t\t\t\n",
      "\t\t\t\t\t\t\t\t\tFacultad\n",
      "\t\t\t\t\t\t\t\t\tFecha\n",
      "\t\t\t\t\t\t\t\t\n",
      "\t\t\t\t\t\t\t\n",
      "\t\t\t\t\t\t\t\n",
      "\t\t\t\t\t\t\t\t\n",
      "\t\t\t\t\t\t\t\t\tCiencias y Educación\n",
      "\t\t\t\t\t\t\t\t\tMiércoles 17 de marzo de 8:00 a.m. a 11:59 p.m.\n",
      "\t\t\t\t\t\t\t\t\n",
      "\t\t\t\t\t\t\t\t\n",
      "\t\t\t\t\t\t\t\t\tIngeniería\n",
      "\t\t\t\t\t\t\t\t\tJueves 18 de marzo de 8:00 a.m. a 11:59 p.m.\n",
      "\t\t\t\t\t\t\t\t\n",
      "\t\t\t\t\t\t\t\t\n",
      "\t\t\t\t\t\t\t\t\tMedio Ambiente\n",
      "\t\t\t\t\t\t\t\t\tViernes 19 de marzo de 8:00 a.m. a 11:59 p.m.\n",
      "\t\t\t\t\t\t\t\t\n",
      "\t\t\t\t\t\t\t\t\n",
      "\t\t\t\t\t\t\t\t\tTecnológica\n",
      "\t\t\t\t\t\t\t\t\tSábado 20 de marzo de 8:00 a.m. a 11:59 p.m.\n",
      "\t\t\t\t\t\t\t\t\n",
      "\t\t\t\t\t\t\t\t\n",
      "\t\t\t\t\t\t\t\t\tArtes\n",
      "\t\t\t\t\t\t\t\t\tDomingo 21 de marzo de 8:00 a.m. a 11:59 p.m.\n",
      "\t\t\t\t\t\t\t\t\n",
      "\t\t\t\t\t\t\t\t\n",
      "\t\t\t\t\t\t\t\t\tTodas\n",
      "\t\t\t\t\t\t\t\t\tLunes 22 de marzo de 8:00 a.m. a 11:59 p.m.\n",
      "\t\t\t\t\t\t\t\t\n",
      "\t\t\t\t\t\t\t\n",
      "\t\t\t\t\t\t\n",
      "\t\t\t\t\t\t\n",
      "\t\t\t\t\t\t\n",
      "\t\t\t\t\t\t\tNOTA:La inscripción automática por parte de los Proyectos Curriculares deberá ser realizada el Martes 16 de marzo de 2021.\n",
      "\t\t\t\t\t\t\n",
      "\t\t\t\t\t\t\n",
      "\t\t\t\t\t\t\t\n",
      "\t\t\t\t\t\t\t\t\n",
      "\t\t\t\t\t\t\t\t\tVer Horarios\n",
      "\t\t\t\t\t\t\t\t\n",
      "\t\t\t\t\t\t\t\n",
      "\t\t\t\t\t\t\n",
      "\t\t\t\t\t\n",
      "\t\t\t\t\n"
     ]
    }
   ],
   "source": [
    "# EXTRACCION DE LA SECCION DE NOTICIAS\n",
    "noticia = parser.get_element_by_id(\"noticias\")\n",
    "print (noticia.text_content())"
   ]
  },
  {
   "cell_type": "code",
   "execution_count": 7,
   "metadata": {},
   "outputs": [
    {
     "name": "stdout",
     "output_type": "stream",
     "text": [
      "English\n"
     ]
    }
   ],
   "source": [
    "# EXTRACCION SOLO DEL TEXTO QUE DICE INGLES\n",
    "ingles = parser.xpath(\"//a[@id='js-link-box-en']/strong/text()\")\n",
    "print(ingles[0])"
   ]
  },
  {
   "cell_type": "code",
   "execution_count": 8,
   "metadata": {},
   "outputs": [
    {
     "name": "stdout",
     "output_type": "stream",
     "text": [
      "\n",
      "\n",
      "English\n",
      "6 274 000+ articles\n",
      "\n",
      "\n",
      "\n",
      "\n",
      "EspaÃ±ol\n",
      "1 668 000+ artÃ­culos\n",
      "\n",
      "\n",
      "\n",
      "\n",
      "æ¥æ¬èª\n",
      "1 259 000+ è¨äº\n",
      "\n",
      "\n",
      "\n",
      "\n",
      "Deutsch\n",
      "2 553 000+ Artikel\n",
      "\n",
      "\n",
      "\n",
      "\n",
      "Ð ÑÑÑÐºÐ¸Ð¹\n",
      "1 708 000+ ÑÑÐ°ÑÐµÐ¹\n",
      "\n",
      "\n",
      "\n",
      "\n",
      "FranÃ§ais\n",
      "2 311 000+ articles\n",
      "\n",
      "\n",
      "\n",
      "\n",
      "Italiano\n",
      "1 681 000+ voci\n",
      "\n",
      "\n",
      "\n",
      "\n",
      "ä¸­æ\n",
      "1 185 000+ æ¢ç®\n",
      "\n",
      "\n",
      "\n",
      "\n",
      "PortuguÃªs\n",
      "1 061 000+ artigos\n",
      "\n",
      "\n",
      "\n",
      "\n",
      "Polski\n",
      "1 463 000+ haseÅ\n",
      "\n",
      "\n"
     ]
    }
   ],
   "source": [
    "# EXTRACCION DE TODOS LOS IDIOMAS POR CLASE\n",
    "idiomas = parser.find_class('central-featured-lang')\n",
    "for idioma in idiomas:\n",
    "  print(idioma.text_content())"
   ]
  },
  {
   "cell_type": "code",
   "execution_count": 9,
   "metadata": {},
   "outputs": [
    {
     "name": "stdout",
     "output_type": "stream",
     "text": [
      "English\n",
      "EspaÃ±ol\n",
      "æ¥æ¬èª\n",
      "Deutsch\n",
      "Ð ÑÑÑÐºÐ¸Ð¹\n",
      "FranÃ§ais\n",
      "Italiano\n",
      "ä¸­æ\n",
      "PortuguÃªs\n",
      "Polski\n"
     ]
    }
   ],
   "source": [
    "# EXTRACCION DE TODOS LOS IDIOMAS POR XPATH\n",
    "idiomas = parser.xpath(\"//div[contains(@class,'central-featured-lang')]//strong/text()\")\n",
    "for idioma in idiomas:\n",
    "  print(idioma)"
   ]
  },
  {
   "cell_type": "code",
   "execution_count": null,
   "metadata": {},
   "outputs": [],
   "source": []
  }
 ],
 "metadata": {
  "kernelspec": {
   "display_name": "Python 3",
   "language": "python",
   "name": "python3"
  },
  "language_info": {
   "codemirror_mode": {
    "name": "ipython",
    "version": 3
   },
   "file_extension": ".py",
   "mimetype": "text/x-python",
   "name": "python",
   "nbconvert_exporter": "python",
   "pygments_lexer": "ipython3",
   "version": "3.8.5"
  }
 },
 "nbformat": 4,
 "nbformat_minor": 4
}
