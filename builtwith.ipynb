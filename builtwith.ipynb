{
 "cells": [
  {
   "cell_type": "code",
   "execution_count": 2,
   "metadata": {},
   "outputs": [],
   "source": [
    "import builtwith"
   ]
  },
  {
   "cell_type": "code",
   "execution_count": 8,
   "metadata": {},
   "outputs": [
    {
     "name": "stdout",
     "output_type": "stream",
     "text": [
      "Web universidad: {'web-servers': ['Apache'], 'cms': ['Drupal'], 'programming-languages': ['PHP'], 'web-server-extensions': ['OpenSSL'], 'font-scripts': ['Font Awesome', 'Google Font API'], 'javascript-frameworks': ['Modernizr', 'jQuery', 'prettyPhoto'], 'widgets': ['OWL Carousel'], 'photo-galleries': ['jQuery', 'OWL Carousel', 'prettyPhoto'], 'web-frameworks': ['Twitter Bootstrap']}\n",
      "Web SGA: {'web-servers': ['Apache']}\n",
      "web Dropox: {'javascript-graphics': ['Highcharts'], 'javascript-frameworks': ['Prototype', 'React', 'RequireJS', 'jQuery']}\n"
     ]
    }
   ],
   "source": [
    "print(\"Web universidad: \"+str(builtwith.parse('https://www.udistrital.edu.co')))\n",
    "print(\"Web SGA: \"+str(builtwith.parse('https://estudiantes.portaloas.udistrital.edu.co')))\n",
    "print(\"web Dropox: \"+str(builtwith.parse('https://www.dropbox.com/sh/qe9h0jdh7fgz006/AADWQ5v8_4YRIF61uAbu75oua?dl=0')))"
   ]
  },
  {
   "cell_type": "code",
   "execution_count": null,
   "metadata": {},
   "outputs": [],
   "source": []
  },
  {
   "cell_type": "code",
   "execution_count": null,
   "metadata": {},
   "outputs": [],
   "source": []
  },
  {
   "cell_type": "code",
   "execution_count": null,
   "metadata": {},
   "outputs": [],
   "source": []
  }
 ],
 "metadata": {
  "kernelspec": {
   "display_name": "Python 3",
   "language": "python",
   "name": "python3"
  },
  "language_info": {
   "codemirror_mode": {
    "name": "ipython",
    "version": 3
   },
   "file_extension": ".py",
   "mimetype": "text/x-python",
   "name": "python",
   "nbconvert_exporter": "python",
   "pygments_lexer": "ipython3",
   "version": "3.8.10"
  }
 },
 "nbformat": 4,
 "nbformat_minor": 4
}
