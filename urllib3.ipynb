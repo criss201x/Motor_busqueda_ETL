{
 "cells": [
  {
   "cell_type": "code",
   "execution_count": 20,
   "metadata": {},
   "outputs": [],
   "source": [
    "import urllib3"
   ]
  },
  {
   "cell_type": "code",
   "execution_count": 21,
   "metadata": {},
   "outputs": [
    {
     "name": "stdout",
     "output_type": "stream",
     "text": [
      "Codigo de respuesta: 200\n",
      "\n",
      " llaves: KeysView(HTTPHeaderDict({'Date': 'Sat, 15 May 2021 19:44:51 GMT', 'Server': 'Apache/2.4.6 (CentOS) OpenSSL/1.0.2k-fips PHP/7.2.27', 'X-Content-Type-Options': 'nosniff, nosniff', 'X-Powered-By': 'PHP/7.2.27', 'Cache-Control': 'max-age=60, public', 'X-Drupal-Dynamic-Cache': 'UNCACHEABLE', 'Link': '<https://www.udistrital.edu.co/inicio>; rel=\"canonical\"', 'X-UA-Compatible': 'IE=edge', 'Content-language': 'es', 'X-Frame-Options': 'SAMEORIGIN', 'Expires': 'Sun, 19 Nov 1978 05:00:00 GMT', 'Last-Modified': 'Fri, 14 May 2021 16:18:33 GMT', 'ETag': '\"1621009113\"', 'Vary': 'Cookie', 'X-Generator': 'Drupal 8 (https://www.drupal.org)', 'X-Drupal-Cache': 'HIT', 'Transfer-Encoding': 'chunked', 'Content-Type': 'text/html; charset=UTF-8'}))\n",
      "\n",
      " cabeceras: ValuesView(HTTPHeaderDict({'Date': 'Sat, 15 May 2021 19:44:51 GMT', 'Server': 'Apache/2.4.6 (CentOS) OpenSSL/1.0.2k-fips PHP/7.2.27', 'X-Content-Type-Options': 'nosniff, nosniff', 'X-Powered-By': 'PHP/7.2.27', 'Cache-Control': 'max-age=60, public', 'X-Drupal-Dynamic-Cache': 'UNCACHEABLE', 'Link': '<https://www.udistrital.edu.co/inicio>; rel=\"canonical\"', 'X-UA-Compatible': 'IE=edge', 'Content-language': 'es', 'X-Frame-Options': 'SAMEORIGIN', 'Expires': 'Sun, 19 Nov 1978 05:00:00 GMT', 'Last-Modified': 'Fri, 14 May 2021 16:18:33 GMT', 'ETag': '\"1621009113\"', 'Vary': 'Cookie', 'X-Generator': 'Drupal 8 (https://www.drupal.org)', 'X-Drupal-Cache': 'HIT', 'Transfer-Encoding': 'chunked', 'Content-Type': 'text/html; charset=UTF-8'}))\n"
     ]
    }
   ],
   "source": [
    "pool = urllib3.PoolManager(10)\n",
    "response = pool.request('GET', 'https://www.udistrital.edu.co/inicio#/galeria.php')\n",
    "print(\"Codigo de respuesta: \"+str(response.status))\n",
    "print(\"\\n llaves: \"+str(response.headers.keys()))\n",
    "print(\"\\n cabeceras: \"+str(response.headers.values()))"
   ]
  },
  {
   "cell_type": "code",
   "execution_count": null,
   "metadata": {},
   "outputs": [],
   "source": []
  },
  {
   "cell_type": "code",
   "execution_count": null,
   "metadata": {},
   "outputs": [],
   "source": []
  }
 ],
 "metadata": {
  "kernelspec": {
   "display_name": "Python 3",
   "language": "python",
   "name": "python3"
  },
  "language_info": {
   "codemirror_mode": {
    "name": "ipython",
    "version": 3
   },
   "file_extension": ".py",
   "mimetype": "text/x-python",
   "name": "python",
   "nbconvert_exporter": "python",
   "pygments_lexer": "ipython3",
   "version": "3.8.10"
  }
 },
 "nbformat": 4,
 "nbformat_minor": 4
}
