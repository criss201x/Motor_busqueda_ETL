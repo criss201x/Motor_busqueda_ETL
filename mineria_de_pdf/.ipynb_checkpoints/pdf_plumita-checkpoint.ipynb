{
 "cells": [
  {
   "cell_type": "code",
   "execution_count": null,
   "id": "293c66c0-ee5d-4abe-849f-1787ab17fdd3",
   "metadata": {},
   "outputs": [],
   "source": [
    "import pdfplumber"
   ]
  },
  {
   "cell_type": "code",
   "execution_count": null,
   "id": "6c482bb5-34f9-44f8-9b1f-da20c2fa40fe",
   "metadata": {},
   "outputs": [],
   "source": [
    "#with pdfplumber.open('horarios_20211_Facultad_Tecnologica.pdf') as pdf:\n",
    "json_scraper = []\n",
    "with pdfplumber.open('horarios_20211_Facultad_Tecnologica.pdf') as pdf:        \n",
    "    i = 0\n",
    "    for pagina in pdf.pages:\n",
    "        text = pagina.extract_text()    \n",
    "        print(\"Extrayendo datos de la pagina: \"+ str(pagina.page_number))\n",
    "        json_scraper.append({\"Pagina\": pagina.page_number, \"nodos\":[] }) \n",
    "        if text is not None:\n",
    "            for linea in text.split('\\n'):\n",
    "                json_scraper[i][\"nodos\"].append({'tupla': linea})               \n",
    "        i += 1\n",
    "    pdf.close()\n",
    "f = open(\"horarios_20211_Facultad_Tecnologica.json\", 'w+')\n",
    "f.write(json.dumps(json_scraper, indent=4, sort_keys=True))\n",
    "f.close()"
   ]
  },
  {
   "cell_type": "code",
   "execution_count": null,
   "id": "7330814d-0ab3-497f-81fb-0e6163316243",
   "metadata": {},
   "outputs": [],
   "source": []
  },
  {
   "cell_type": "code",
   "execution_count": null,
   "id": "cd05e1f5-4c74-40f1-a7e2-ff2f6724dc40",
   "metadata": {},
   "outputs": [],
   "source": []
  }
 ],
 "metadata": {
  "kernelspec": {
   "display_name": "Python 3",
   "language": "python",
   "name": "python3"
  },
  "language_info": {
   "codemirror_mode": {
    "name": "ipython",
    "version": 3
   },
   "file_extension": ".py",
   "mimetype": "text/x-python",
   "name": "python",
   "nbconvert_exporter": "python",
   "pygments_lexer": "ipython3",
   "version": "3.8.10"
  }
 },
 "nbformat": 4,
 "nbformat_minor": 5
}
