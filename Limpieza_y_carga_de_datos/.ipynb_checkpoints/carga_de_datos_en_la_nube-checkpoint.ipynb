{
 "cells": [
  {
   "cell_type": "code",
   "execution_count": 19,
   "id": "64b17f1f-ebb6-4f3b-b7ca-e4afe4223615",
   "metadata": {},
   "outputs": [],
   "source": [
    "import firebase_admin\n",
    "from firebase_admin import credentials\n",
    "from firebase_admin import db\n",
    "import json"
   ]
  },
  {
   "cell_type": "code",
   "execution_count": 12,
   "id": "2d0ee6a0-01a9-4707-af67-459ebcfed7c3",
   "metadata": {},
   "outputs": [],
   "source": [
    "# Fetch the service account key JSON file contents\n",
    "cred = credentials.Certificate('horarios-y-espacios-fact-tecno-firebase-adminsdk-xx8px-9a7e0f0da8.json')"
   ]
  },
  {
   "cell_type": "code",
   "execution_count": 15,
   "id": "66662a49-c172-446e-9e63-d9a0753be90b",
   "metadata": {},
   "outputs": [
    {
     "data": {
      "text/plain": [
       "<firebase_admin.App at 0x7fa2b8b37eb0>"
      ]
     },
     "execution_count": 15,
     "metadata": {},
     "output_type": "execute_result"
    }
   ],
   "source": [
    "firebase_admin.initialize_app(cred, {\n",
    "    'databaseURL': 'https://horarios-y-espacios-fact-tecno.firebaseio.com'\n",
    "})"
   ]
  },
  {
   "cell_type": "code",
   "execution_count": 20,
   "id": "b2ef8729-3f9c-4715-8d01-3dc68ae154c4",
   "metadata": {},
   "outputs": [],
   "source": [
    "ref = db.reference('/')\n",
    "#print(ref.get())"
   ]
  },
  {
   "cell_type": "code",
   "execution_count": 23,
   "id": "ea82eb57-a3a1-49ef-8bdb-8dd2a6234080",
   "metadata": {},
   "outputs": [],
   "source": [
    "with open(\"horarios_20211_Facultad_tecnologica_limpio.json\", \"r\") as f:\n",
    "\tdatos = json.load(f)\n",
    "ref.set(datos)#volca toda la data del json"
   ]
  },
  {
   "cell_type": "code",
   "execution_count": null,
   "id": "bbb98e82-8495-4ecb-bbb5-a5d39acd9bd2",
   "metadata": {},
   "outputs": [],
   "source": []
  }
 ],
 "metadata": {
  "kernelspec": {
   "display_name": "Python 3",
   "language": "python",
   "name": "python3"
  },
  "language_info": {
   "codemirror_mode": {
    "name": "ipython",
    "version": 3
   },
   "file_extension": ".py",
   "mimetype": "text/x-python",
   "name": "python",
   "nbconvert_exporter": "python",
   "pygments_lexer": "ipython3",
   "version": "3.8.10"
  }
 },
 "nbformat": 4,
 "nbformat_minor": 5
}
