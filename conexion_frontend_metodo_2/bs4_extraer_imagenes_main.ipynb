{
 "cells": [
  {
   "cell_type": "code",
   "execution_count": 1,
   "metadata": {},
   "outputs": [],
   "source": [
    "from bs4_extraer_imagenes import Scraping"
   ]
  },
  {
   "cell_type": "code",
   "execution_count": 6,
   "metadata": {},
   "outputs": [
    {
     "name": "stdout",
     "output_type": "stream",
     "text": [
      "Obteniento imagenes con Beautiful soup! https://estudiantes.portaloas.udistrital.edu.co/appserv/\n",
      "https://estudiantes.portaloas.udistrital.edu.co/appserv/index_files/icon-alert.svg\n",
      "https://estudiantes.portaloas.udistrital.edu.co/appserv/index_files/funcionarios.png\n"
     ]
    }
   ],
   "source": [
    "if __name__ == \"__main__\":\n",
    "    url = 'https://estudiantes.portaloas.udistrital.edu.co/appserv/'\n",
    "    scraping = Scraping()    \n",
    "    scraping.scrapingBeautifulSoup(url)"
   ]
  },
  {
   "cell_type": "code",
   "execution_count": null,
   "metadata": {},
   "outputs": [],
   "source": []
  }
 ],
 "metadata": {
  "kernelspec": {
   "display_name": "Python 3",
   "language": "python",
   "name": "python3"
  },
  "language_info": {
   "codemirror_mode": {
    "name": "ipython",
    "version": 3
   },
   "file_extension": ".py",
   "mimetype": "text/x-python",
   "name": "python",
   "nbconvert_exporter": "python",
   "pygments_lexer": "ipython3",
   "version": "3.8.8"
  }
 },
 "nbformat": 4,
 "nbformat_minor": 4
}
