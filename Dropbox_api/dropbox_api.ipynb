{
 "cells": [
  {
   "cell_type": "code",
   "execution_count": 1,
   "id": "9ae2217b-218f-46d7-b867-711077207f64",
   "metadata": {},
   "outputs": [],
   "source": [
    "import dropbox"
   ]
  },
  {
   "cell_type": "code",
   "execution_count": 2,
   "id": "d00eae83-1b69-439a-b808-3fe3b494cd89",
   "metadata": {},
   "outputs": [],
   "source": [
    "dbx = dropbox.Dropbox('26mEmd9exyUAAAAAAAAAAYUIVkjfZOvtXPEQ9Xm3rD5d1sNiCGze0-YOcRVZ_4tv')#mi access token, genera el tuyo\n",
    "#dbx.users_get_current_account()"
   ]
  },
  {
   "cell_type": "code",
   "execution_count": 3,
   "id": "7b4fada0-cbd5-4647-a9b8-589e7fed4fad",
   "metadata": {},
   "outputs": [
    {
     "name": "stdout",
     "output_type": "stream",
     "text": [
      "FileLinkMetadata(client_modified=datetime.datetime(2021, 3, 21, 0, 55, 33), content_owner_team_info=NOT_SET, expires=NOT_SET, id='id:Oy1OfTHodAEAAAAAAAAGjw', link_permissions=LinkPermissions(can_revoke=False, effective_audience=NOT_SET, link_access_level=NOT_SET, requested_visibility=NOT_SET, resolved_visibility=ResolvedVisibility('public', None), revoke_failure_reason=SharedLinkAccessFailureReason('owner_only', None)), name='horarios_20211_Segunda_Lengua.pdf', path_lower=NOT_SET, rev='5be0168111ecb0d8608fc', server_modified=datetime.datetime(2021, 3, 21, 0, 55, 33), size=100570, team_member_info=NOT_SET, url='https://www.dropbox.com/sh/qe9h0jdh7fgz006/AAAKZTxiMQ2oDPnLn6-i8YKta/horarios_20211_Segunda_Lengua.pdf?dl=0')\n",
      "FileLinkMetadata(client_modified=datetime.datetime(2021, 3, 21, 0, 55, 35), content_owner_team_info=NOT_SET, expires=NOT_SET, id='id:Oy1OfTHodAEAAAAAAAAGkA', link_permissions=LinkPermissions(can_revoke=False, effective_audience=NOT_SET, link_access_level=NOT_SET, requested_visibility=NOT_SET, resolved_visibility=ResolvedVisibility('public', None), revoke_failure_reason=SharedLinkAccessFailureReason('owner_only', None)), name='horarios_20211_Facultad_Artes.pdf', path_lower=NOT_SET, rev='5be01682bc64a0d8608fc', server_modified=datetime.datetime(2021, 3, 21, 0, 55, 35), size=533522, team_member_info=NOT_SET, url='https://www.dropbox.com/sh/qe9h0jdh7fgz006/AACrQ4eX12vDXr1o5hRhbqY6a/horarios_20211_Facultad_Artes.pdf?dl=0')\n",
      "FileLinkMetadata(client_modified=datetime.datetime(2021, 3, 21, 0, 55, 36), content_owner_team_info=NOT_SET, expires=NOT_SET, id='id:Oy1OfTHodAEAAAAAAAAGkQ', link_permissions=LinkPermissions(can_revoke=False, effective_audience=NOT_SET, link_access_level=NOT_SET, requested_visibility=NOT_SET, resolved_visibility=ResolvedVisibility('public', None), revoke_failure_reason=SharedLinkAccessFailureReason('owner_only', None)), name='horarios_20211_Facultad_Ingenieria.pdf', path_lower=NOT_SET, rev='5be01684384fc0d8608fc', server_modified=datetime.datetime(2021, 3, 21, 0, 55, 37), size=537908, team_member_info=NOT_SET, url='https://www.dropbox.com/sh/qe9h0jdh7fgz006/AACMS5si_n2l0Zk1pEZD2fdja/horarios_20211_Facultad_Ingenieria.pdf?dl=0')\n",
      "FileLinkMetadata(client_modified=datetime.datetime(2021, 3, 21, 0, 55, 38), content_owner_team_info=NOT_SET, expires=NOT_SET, id='id:Oy1OfTHodAEAAAAAAAAGkg', link_permissions=LinkPermissions(can_revoke=False, effective_audience=NOT_SET, link_access_level=NOT_SET, requested_visibility=NOT_SET, resolved_visibility=ResolvedVisibility('public', None), revoke_failure_reason=SharedLinkAccessFailureReason('owner_only', None)), name='horarios_20211_Facultad_Tecnologica.pdf', path_lower=NOT_SET, rev='5be01685b74b70d8608fc', server_modified=datetime.datetime(2021, 3, 21, 0, 55, 38), size=586442, team_member_info=NOT_SET, url='https://www.dropbox.com/sh/qe9h0jdh7fgz006/AABKxL0pGF2pSG_i3mj6omT3a/horarios_20211_Facultad_Tecnologica.pdf?dl=0')\n",
      "FileLinkMetadata(client_modified=datetime.datetime(2021, 3, 21, 0, 55, 39), content_owner_team_info=NOT_SET, expires=NOT_SET, id='id:Oy1OfTHodAEAAAAAAAAGkw', link_permissions=LinkPermissions(can_revoke=False, effective_audience=NOT_SET, link_access_level=NOT_SET, requested_visibility=NOT_SET, resolved_visibility=ResolvedVisibility('public', None), revoke_failure_reason=SharedLinkAccessFailureReason('owner_only', None)), name='horarios_20211_Facultad_Ciencias.pdf', path_lower=NOT_SET, rev='5be016872b4a90d8608fc', server_modified=datetime.datetime(2021, 3, 21, 0, 55, 40), size=660228, team_member_info=NOT_SET, url='https://www.dropbox.com/sh/qe9h0jdh7fgz006/AADcux12gjRmNg1mtxTvr8DDa/horarios_20211_Facultad_Ciencias.pdf?dl=0')\n",
      "FileLinkMetadata(client_modified=datetime.datetime(2021, 3, 21, 0, 55, 41), content_owner_team_info=NOT_SET, expires=NOT_SET, id='id:Oy1OfTHodAEAAAAAAAAGlA', link_permissions=LinkPermissions(can_revoke=False, effective_audience=NOT_SET, link_access_level=NOT_SET, requested_visibility=NOT_SET, resolved_visibility=ResolvedVisibility('public', None), revoke_failure_reason=SharedLinkAccessFailureReason('owner_only', None)), name='horarios_20211_Facultad_Medio_Ambiente.pdf', path_lower=NOT_SET, rev='5be016889ab8c0d8608fc', server_modified=datetime.datetime(2021, 3, 21, 0, 55, 41), size=461460, team_member_info=NOT_SET, url='https://www.dropbox.com/sh/qe9h0jdh7fgz006/AADGrOcbI99xxzSo4J3DEF6ba/horarios_20211_Facultad_Medio_Ambiente.pdf?dl=0')\n"
     ]
    }
   ],
   "source": [
    "shared_link = dropbox.files.SharedLink(url=\"https://www.dropbox.com/sh/qe9h0jdh7fgz006/AADWQ5v8_4YRIF61uAbu75oua?dl=0\")\n",
    "lista = dbx.files_list_folder(path=\"\", shared_link=shared_link)\n",
    "for archivo in lista.entries:\n",
    "    if archivo.name.endswith(\".pdf\"):\n",
    "        with open(archivo.name, \"wb\") as f:\n",
    "            metadata, res = dbx.sharing_get_shared_link_file(url=shared_link.url, path=\"/\" + archivo.name)            \n",
    "            f.write(res.content)    \n",
    "            print(metadata)"
   ]
  }
 ],
 "metadata": {
  "kernelspec": {
   "display_name": "Python 3",
   "language": "python",
   "name": "python3"
  },
  "language_info": {
   "codemirror_mode": {
    "name": "ipython",
    "version": 3
   },
   "file_extension": ".py",
   "mimetype": "text/x-python",
   "name": "python",
   "nbconvert_exporter": "python",
   "pygments_lexer": "ipython3",
   "version": "3.8.10"
  }
 },
 "nbformat": 4,
 "nbformat_minor": 5
}
