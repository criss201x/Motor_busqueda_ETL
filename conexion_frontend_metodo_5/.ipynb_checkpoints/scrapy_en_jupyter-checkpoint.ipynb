{
 "cells": [
  {
   "cell_type": "code",
   "execution_count": 1,
   "metadata": {},
   "outputs": [],
   "source": [
    "#!pip install crochet\n",
    "import scrapy\n",
    "from crochet import setup\n",
    "setup()\n",
    "import requests\n",
    "from scrapy.http import TextResponse"
   ]
  },
  {
   "cell_type": "code",
   "execution_count": 5,
   "metadata": {},
   "outputs": [],
   "source": [
    "r=requests.get(\"https://estudiantes.portaloas.udistrital.edu.co/appserv/\")"
   ]
  },
  {
   "cell_type": "code",
   "execution_count": 6,
   "metadata": {},
   "outputs": [],
   "source": [
    "response = TextResponse(r.url, body=r.text, encoding='utf-8')"
   ]
  },
  {
   "cell_type": "code",
   "execution_count": 7,
   "metadata": {},
   "outputs": [
    {
     "data": {
      "text/plain": [
       "['<a href=\"//www.udistrital.edu.co/\">Udistrital</a>',\n",
       " '<a href=\"index_urano.html\" title=\"Haga click para ingresar a la Nueva Interfaz\"> \\t\\t\\t\\t\\t\\t\\t\\t\\t\\t<img alt=\"Nueva Interfaz\" src=\"index_files/icon-alert.svg\"> \\t\\t\\t\\t\\t\\t\\t\\t\\t\\t¡Prueba la Nueva Interfaz! \\t\\t\\t\\t\\t\\t\\t\\t\\t</a>',\n",
       " '<a href=\"//funcionarios.portaloas.udistrital.edu.co/lamasu/index.php?temasys=KQGywm3XYVdAV31p8b9PfezfM0446THJgGk0c-FSptsWpYlO2YaXffGI8cgcvdvOEjYjbiFoQBXOYMggvsZpxXBguyZKA4ni_sC50pDEMni53qCLNNISZZGZIiQ77BA3wHJIVUe6csZvkJIQ4j_1F2VI6hCpJ4pmlnbdOB-r77NUfL-_rvY4RXOC-ZFdaFWVNkS0mVUImJF1BA\" class=\"reset-password\">\\n\\t\\t\\t\\t\\t\\t\\t\\t\\t¿Olvidaste la contraseña?\\n\\t\\t\\t\\t\\t\\t\\t\\t</a>',\n",
       " '<a id=\"fxa-tos\" href=\"/appserv/terminos_y_condiciones.pdf\" target=\"_blank\">Términos del servicio</a>',\n",
       " '<a href=\"//funcionarios.portaloas.udistrital.edu.co/lamasu/index.php?temasys=KQGywm3XYVdAV31p8b9PfezfM0446THJgGk0c-FSptsWpYlO2YaXffGI8cgcvdvOEjYjbiFoQBXOYMggvsZpxXBguyZKA4ni_sC50pDEMni53qCLNNISZZGZIiQ77BA3wHJIVUe6csZvkJIQ4j_1F2VI6hCpJ4pmlnbdOB-r77NUfL-_rvY4RXOC-ZFdaFWVNkS0mVUImJF1BA\">Recuperación contraseña de Sistema de Gestión Académica</a>',\n",
       " '<a href=\"https://youtu.be/NjBeY5cKM3U\" target=\"_blank\">Video recuperación de clave</a>',\n",
       " '<a href=\"http://udnet.udistrital.edu.co:8080/recuperacion-contrasena-correo\" target=\"_blank\">Recuperación contraseña del Correo Electrónico</a>',\n",
       " '<a href=\"/moodle/index.php\">Moodle</a>',\n",
       " '<a href=\"//portalws.udistrital.edu.co/soporte/\" target=\"_blank\">Manuales y Videotutoriales de Ayuda</a>',\n",
       " '<a href=\"//sgral.udistrital.edu.co/sgral/index.php\" target=\"_blank\">Calendario Académico</a>',\n",
       " '<a href=\"//sgral.udistrital.edu.co/sgral/index.php\" target=\"_blank\">Derechos Pecuniarios</a>',\n",
       " '<a href=\"https://www.dropbox.com/sh/qe9h0jdh7fgz006/AADWQ5v8_4YRIF61uAbu75oua?dl=0\" target=\"_blank\">\\n\\t\\t\\t\\t\\t\\t\\t<div class=\"button-row\">\\n\\t\\t\\t\\t\\t\\t\\t\\t<div class=\"campoBoton\">\\n\\t\\t\\t\\t\\t\\t\\t\\t\\t<button>Ver Horarios</button>\\n\\t\\t\\t\\t\\t\\t\\t\\t</div>\\n\\t\\t\\t\\t\\t\\t\\t</div>\\n\\t\\t\\t\\t\\t\\t</a>',\n",
       " '<a href=\"//funcionarios.portaloas.udistrital.edu.co\"><img src=\"index_files/funcionarios.png\" id=\"boton-funcionarios\"></a>',\n",
       " '<a href=\"//www.udistrital.edu.co/\">Universidad Distrital\\n\\t\\t\\t\\t\\t\\t\\tFrancisco José de Caldas</a>',\n",
       " '<a href=\"/appserv/terminos_y_condiciones.pdf\">Términos,\\n\\t\\t\\t\\t\\t\\t\\tcondiciones de uso y política de privacidad</a>']"
      ]
     },
     "execution_count": 7,
     "metadata": {},
     "output_type": "execute_result"
    }
   ],
   "source": [
    "response.css('a').extract()"
   ]
  },
  {
   "cell_type": "code",
   "execution_count": null,
   "metadata": {},
   "outputs": [],
   "source": []
  },
  {
   "cell_type": "code",
   "execution_count": null,
   "metadata": {},
   "outputs": [],
   "source": []
  }
 ],
 "metadata": {
  "kernelspec": {
   "display_name": "Python 3",
   "language": "python",
   "name": "python3"
  },
  "language_info": {
   "codemirror_mode": {
    "name": "ipython",
    "version": 3
   },
   "file_extension": ".py",
   "mimetype": "text/x-python",
   "name": "python",
   "nbconvert_exporter": "python",
   "pygments_lexer": "ipython3",
   "version": "3.8.5"
  }
 },
 "nbformat": 4,
 "nbformat_minor": 4
}
