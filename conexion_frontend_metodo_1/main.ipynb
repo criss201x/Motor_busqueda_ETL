{
 "cells": [
  {
   "cell_type": "code",
   "execution_count": 1,
   "metadata": {},
   "outputs": [],
   "source": [
    "import sys\n",
    "sys.path.append(\".\")\n",
    "from algoritmo_con_peticion import Scraping"
   ]
  },
  {
   "cell_type": "code",
   "execution_count": 2,
   "metadata": {
    "tags": []
   },
   "outputs": [
    {
     "name": "stdout",
     "output_type": "stream",
     "text": [
      "\n",
      "Obteniendo links de la urlhttps://estudiantes.portaloas.udistrital.edu.co/appserv/\n",
      "Encontrados:  15 links\n",
      "//www.udistrital.edu.co/\n",
      "index_urano.html\n",
      "//funcionarios.portaloas.udistrital.edu.co/lamasu/index.php?temasys=KQGywm3XYVdAV31p8b9PfezfM0446THJgGk0c-FSptsWpYlO2YaXffGI8cgcvdvOEjYjbiFoQBXOYMggvsZpxXBguyZKA4ni_sC50pDEMni53qCLNNISZZGZIiQ77BA3wHJIVUe6csZvkJIQ4j_1F2VI6hCpJ4pmlnbdOB-r77NUfL-_rvY4RXOC-ZFdaFWVNkS0mVUImJF1BA\n",
      "/appserv/terminos_y_condiciones.pdf\n",
      "//funcionarios.portaloas.udistrital.edu.co/lamasu/index.php?temasys=KQGywm3XYVdAV31p8b9PfezfM0446THJgGk0c-FSptsWpYlO2YaXffGI8cgcvdvOEjYjbiFoQBXOYMggvsZpxXBguyZKA4ni_sC50pDEMni53qCLNNISZZGZIiQ77BA3wHJIVUe6csZvkJIQ4j_1F2VI6hCpJ4pmlnbdOB-r77NUfL-_rvY4RXOC-ZFdaFWVNkS0mVUImJF1BA\n",
      "https://youtu.be/NjBeY5cKM3U\n",
      "http://udnet.udistrital.edu.co:8080/recuperacion-contrasena-correo\n",
      "/moodle/index.php\n",
      "//portalws.udistrital.edu.co/soporte/\n",
      "//sgral.udistrital.edu.co/sgral/index.php\n",
      "//sgral.udistrital.edu.co/sgral/index.php\n",
      "https://www.dropbox.com/sh/qe9h0jdh7fgz006/AADWQ5v8_4YRIF61uAbu75oua?dl=0\n",
      "//funcionarios.portaloas.udistrital.edu.co\n",
      "//www.udistrital.edu.co/\n",
      "/appserv/terminos_y_condiciones.pdf\n"
     ]
    }
   ],
   "source": [
    "#https://www.dropbox.com/sh/qe9h0jdh7fgz006/AADWQ5v8_4YRIF61uAbu75oua?dl=0\n",
    "#https://estudiantes.portaloas.udistrital.edu.co/appserv/\n",
    "if __name__ == \"__main__\":\n",
    "    url = 'https://estudiantes.portaloas.udistrital.edu.co/appserv/'\n",
    "    scraping = Scraping()\n",
    "    #scraping.extraerImagenes(url)\n",
    "    #scraping.ScrapingPdf(url)\n",
    "    scraping.ScrapingLinks(url)    "
   ]
  },
  {
   "cell_type": "code",
   "execution_count": null,
   "metadata": {},
   "outputs": [],
   "source": []
  }
 ],
 "metadata": {
  "kernelspec": {
   "display_name": "Python 3",
   "language": "python",
   "name": "python3"
  },
  "language_info": {
   "codemirror_mode": {
    "name": "ipython",
    "version": 3
   },
   "file_extension": ".py",
   "mimetype": "text/x-python",
   "name": "python",
   "nbconvert_exporter": "python",
   "pygments_lexer": "ipython3",
   "version": "3.8.8"
  }
 },
 "nbformat": 4,
 "nbformat_minor": 4
}
