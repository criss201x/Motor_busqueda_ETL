{
 "cells": [
  {
   "cell_type": "code",
   "execution_count": 11,
   "metadata": {},
   "outputs": [],
   "source": [
    "from selenium import webdriver\n",
    "from selenium.webdriver.chrome.options import Options\n",
    "import os\n",
    "import time\n",
    "#os.chmod('./chromedriver', 755)"
   ]
  },
  {
   "cell_type": "code",
   "execution_count": 12,
   "metadata": {},
   "outputs": [],
   "source": [
    "chrome_options = Options()\n",
    "chrome_options.add_argument(\"--incognito\")\n",
    "chrome_options.add_argument(\"--window-size=1920x1080\")"
   ]
  },
  {
   "cell_type": "code",
   "execution_count": 13,
   "metadata": {},
   "outputs": [
    {
     "name": "stdout",
     "output_type": "stream",
     "text": [
      "https://www.dropbox.com/sh/qe9h0jdh7fgz006/AACrQ4eX12vDXr1o5hRhbqY6a/horarios_20211_Facultad_Artes.pdf?dl=0\n",
      "https://www.dropbox.com/sh/qe9h0jdh7fgz006/AADcux12gjRmNg1mtxTvr8DDa/horarios_20211_Facultad_Ciencias.pdf?dl=0\n",
      "https://www.dropbox.com/sh/qe9h0jdh7fgz006/AACMS5si_n2l0Zk1pEZD2fdja/horarios_20211_Facultad_Ingenieria.pdf?dl=0\n",
      "https://www.dropbox.com/sh/qe9h0jdh7fgz006/AADGrOcbI99xxzSo4J3DEF6ba/horarios_20211_Facultad_Medio_Ambiente.pdf?dl=0\n",
      "https://www.dropbox.com/sh/qe9h0jdh7fgz006/AABKxL0pGF2pSG_i3mj6omT3a/horarios_20211_Facultad_Tecnologica.pdf?dl=0\n",
      "https://www.dropbox.com/sh/qe9h0jdh7fgz006/AAAKZTxiMQ2oDPnLn6-i8YKta/horarios_20211_Segunda_Lengua.pdf?dl=0\n"
     ]
    }
   ],
   "source": [
    "driver = webdriver.Chrome('./chromedriver')\n",
    "url = \"https://www.dropbox.com/sh/qe9h0jdh7fgz006/AADWQ5v8_4YRIF61uAbu75oua?dl=0\"\n",
    "driver.get(url)\n",
    "time.sleep(3)\n",
    "elements = driver.find_elements_by_xpath('//a[contains(@href,\".pdf\")]')\n",
    "storyTitles = [el.text for el in elements]\n",
    "storyUrls = [el.get_attribute(\"href\") for el in elements]\n",
    "for el in elements: print(el.get_attribute(\"href\"))"
   ]
  },
  {
   "cell_type": "code",
   "execution_count": null,
   "metadata": {},
   "outputs": [],
   "source": []
  }
 ],
 "metadata": {
  "kernelspec": {
   "display_name": "Python 3",
   "language": "python",
   "name": "python3"
  },
  "language_info": {
   "codemirror_mode": {
    "name": "ipython",
    "version": 3
   },
   "file_extension": ".py",
   "mimetype": "text/x-python",
   "name": "python",
   "nbconvert_exporter": "python",
   "pygments_lexer": "ipython3",
   "version": "3.8.5"
  }
 },
 "nbformat": 4,
 "nbformat_minor": 4
}
