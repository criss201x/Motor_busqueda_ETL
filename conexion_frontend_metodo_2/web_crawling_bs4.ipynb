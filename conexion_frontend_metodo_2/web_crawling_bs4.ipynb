{
 "cells": [
  {
   "cell_type": "code",
   "execution_count": 1,
   "id": "bf2e8e2b-67b4-41b5-a227-05ff94d0c55e",
   "metadata": {},
   "outputs": [],
   "source": [
    "import re\n",
    "import requests\n",
    "from bs4 import BeautifulSoup"
   ]
  },
  {
   "cell_type": "code",
   "execution_count": 4,
   "id": "70aac0d4-4785-4957-96f2-bb5ff15c27aa",
   "metadata": {},
   "outputs": [
    {
     "name": "stdout",
     "output_type": "stream",
     "text": [
      "33 enlaces encontrados\n",
      "https://estudiantes.portaloas.udistrital.edu.co/appserv/\n",
      "https://estudiantes.portaloas.udistrital.edu.co/appserv/\n",
      "https://estudiantes.portaloas.udistrital.edu.co/appserv/\n",
      "https://estudiantes.portaloas.udistrital.edu.co/appserv/\n",
      "https://estudiantes.portaloas.udistrital.edu.co/appserv/\n",
      "https://estudiantes.portaloas.udistrital.edu.co/appserv/\n",
      "https://estudiantes.portaloas.udistrital.edu.co/appserv/\n",
      "https://estudiantes.portaloas.udistrital.edu.co/appserv/\n",
      "https://estudiantes.portaloas.udistrital.edu.co/appserv/\n",
      "https://estudiantes.portaloas.udistrital.edu.co/appserv/\n",
      "https://estudiantes.portaloas.udistrital.edu.co/appserv/\n",
      "https://estudiantes.portaloas.udistrital.edu.co/appserv/\n",
      "https://estudiantes.portaloas.udistrital.edu.co/appserv/\n",
      "https://estudiantes.portaloas.udistrital.edu.co/appserv/\n",
      "https://estudiantes.portaloas.udistrital.edu.co/appserv/\n",
      "https://estudiantes.portaloas.udistrital.edu.co/appserv/\n",
      "https://estudiantes.portaloas.udistrital.edu.co/appserv/\n",
      "https://estudiantes.portaloas.udistrital.edu.co/appserv/\n",
      "https://estudiantes.portaloas.udistrital.edu.co/appserv/\n",
      "https://estudiantes.portaloas.udistrital.edu.co/appserv/\n",
      "https://estudiantes.portaloas.udistrital.edu.co/appserv/\n",
      "https://estudiantes.portaloas.udistrital.edu.co/appserv/\n",
      "https://estudiantes.portaloas.udistrital.edu.co/appserv/\n",
      "https://estudiantes.portaloas.udistrital.edu.co/appserv/\n",
      "https://estudiantes.portaloas.udistrital.edu.co/appserv/\n",
      "https://estudiantes.portaloas.udistrital.edu.co/appserv/\n",
      "https://estudiantes.portaloas.udistrital.edu.co/appserv/\n",
      "https://estudiantes.portaloas.udistrital.edu.co/appserv/\n",
      "https://estudiantes.portaloas.udistrital.edu.co/appserv/\n",
      "https://estudiantes.portaloas.udistrital.edu.co/appserv/\n",
      "https://estudiantes.portaloas.udistrital.edu.co/appserv/\n",
      "https://estudiantes.portaloas.udistrital.edu.co/appserv/\n",
      "https://estudiantes.portaloas.udistrital.edu.co/appserv/\n"
     ]
    }
   ],
   "source": [
    "paginas = list(range(33))\n",
    "link2 = []\n",
    "links_limpios = []\n",
    "for i in paginas:\n",
    "    getPagina= requests.get(f\"https://www.udistrital.edu.co/={i}\") \n",
    "    getPagina_soup= BeautifulSoup(getPagina.text, 'html.parser')\n",
    "    links= getPagina_soup.findAll('a')\n",
    "    for link in links: link2.append(link.get('href'))                        \n",
    "for link3 in link2:\n",
    "    if link3 is None:\n",
    "        next\n",
    "    else:\n",
    "        links_limpios.append(link3)    \n",
    " \n",
    "encontrados = [palabra for palabra in links_limpios if \"estudiantes\" in palabra]\n",
    "print(str(len(encontrados)) + \" enlaces encontrados\")\n",
    "for encontrado in encontrados: print(encontrado)\n",
    "link_portal_academico = encontrado #se necesita un unico link "
   ]
  },
  {
   "cell_type": "code",
   "execution_count": null,
   "id": "9a060397-f6ca-49ea-88d1-27b9433d4fe2",
   "metadata": {},
   "outputs": [],
   "source": []
  }
 ],
 "metadata": {
  "kernelspec": {
   "display_name": "Python 3",
   "language": "python",
   "name": "python3"
  },
  "language_info": {
   "codemirror_mode": {
    "name": "ipython",
    "version": 3
   },
   "file_extension": ".py",
   "mimetype": "text/x-python",
   "name": "python",
   "nbconvert_exporter": "python",
   "pygments_lexer": "ipython3",
   "version": "3.8.8"
  }
 },
 "nbformat": 4,
 "nbformat_minor": 5
}
